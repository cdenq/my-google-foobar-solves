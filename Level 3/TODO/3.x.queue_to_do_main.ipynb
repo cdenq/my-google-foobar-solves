{
 "cells": [
  {
   "cell_type": "markdown",
   "metadata": {},
   "source": [
    "# Problem Statement"
   ]
  },
  {
   "cell_type": "code",
   "execution_count": null,
   "metadata": {},
   "outputs": [],
   "source": [
    "'''\n",
    "Queue To Do\n",
    "===========\n",
    "\n",
    "You're almost ready to make your move to destroy the LAMBCHOP doomsday device, but the security checkpoints that guard the underlying systems of the LAMBCHOP are going to be a problem. You were able to take one down without tripping any alarms, which is great! Except that as Commander Lambda's assistant, you've learned that the checkpoints are about to come under automated review, which means that your sabotage will be discovered and your cover blown - unless you can trick the automated review system.\n",
    "\n",
    "To trick the system, you'll need to write a program to return the same security checksum that the guards would have after they would have checked all the workers through. Fortunately, Commander Lambda's desire for efficiency won't allow for hours-long lines, so the checkpoint guards have found ways to quicken the pass-through rate. Instead of checking each and every worker coming through, the guards instead go over everyone in line while noting their security IDs, then allow the line to fill back up. Once they've done that they go over the line again, this time leaving off the last worker. They continue doing this, leaving off one more worker from the line each time but recording the security IDs of those they do check, until they skip the entire line, at which point they XOR the IDs of all the workers they noted into a checksum and then take off for lunch. Fortunately, the workers' orderly nature causes them to always line up in numerical order without any gaps.\n",
    "\n",
    "For example, if the first worker in line has ID 0 and the security checkpoint line holds three workers, the process would look like this:\n",
    "0 1 2 /\n",
    "3 4 / 5\n",
    "6 / 7 8\n",
    "where the guards' XOR (^) checksum is 0^1^2^3^4^6 == 2.\n",
    "\n",
    "Likewise, if the first worker has ID 17 and the checkpoint holds four workers, the process would look like:\n",
    "17 18 19 20 /\n",
    "21 22 23 / 24\n",
    "25 26 / 27 28\n",
    "29 / 30 31 32\n",
    "which produces the checksum 17^18^19^20^21^22^23^25^26^29 == 14.\n",
    "\n",
    "All worker IDs (including the first worker) are between 0 and 2000000000 inclusive, and the checkpoint line will always be at least 1 worker long.\n",
    "\n",
    "With this information, write a function answer(start, length) that will cover for the missing security checkpoint by outputting the same checksum the guards would normally submit before lunch. You have just enough time to find out the ID of the first worker to be checked (start) and the length of the line (length) before the automatic review occurs, so your program must generate the proper checksum with just those two values.\n",
    "'''"
   ]
  },
  {
   "cell_type": "markdown",
   "metadata": {},
   "source": [
    "### Test cases"
   ]
  },
  {
   "cell_type": "code",
   "execution_count": null,
   "metadata": {},
   "outputs": [],
   "source": [
    "'''\n",
    "Inputs:\n",
    "    (int) start = 0\n",
    "    (int) length = 3\n",
    "Output:\n",
    "    (int) 2\n",
    "\n",
    "Inputs:\n",
    "    (int) start = 17\n",
    "    (int) length = 4\n",
    "Output:\n",
    "    (int) 14'''"
   ]
  },
  {
   "cell_type": "markdown",
   "metadata": {},
   "source": [
    "# Strategy"
   ]
  },
  {
   "cell_type": "markdown",
   "metadata": {},
   "source": [
    "### Brute Force: O(n)"
   ]
  },
  {
   "cell_type": "code",
   "execution_count": null,
   "metadata": {},
   "outputs": [],
   "source": [
    "'''\n",
    "Given 'length', create a matrix where...\n",
    "- indices i and j are positive integers\n",
    "- numbers n and m are positive integers\n",
    "- and i+n and j+m are bounded such that 0 <= i+n,j+m <= (length - 1)\n",
    "\n",
    "such that it's values are determined like so...\n",
    "- [0][0] = 'start'\n",
    "- [i+n][j+m] = 'start' + n*length + m\n",
    "\n",
    "loop through each row of the matrix, appending every value up to the jth position equal to the ('length' - i - 1) to a list\n",
    "eg)\n",
    "length = 3\n",
    "0 1 2\n",
    "3 4 5\n",
    "6 7 8\n",
    "\n",
    "row 1: j = 3 - 0 - 1 = 2\n",
    "=> [0,1,2]\n",
    "row 2: j = 3 - 1 - 1 = 1\n",
    "=> [0,1,2,3,4]\n",
    "row 3: j = 3 - 2 - 1 = 0\n",
    "=> [0,1,2,3,4,6]\n",
    "\n",
    "then take the XOR operator on the list [0,1,2,3,4,6]\n",
    "'''"
   ]
  },
  {
   "cell_type": "markdown",
   "metadata": {},
   "source": [
    "### \"Faster Method\": O(n/2), which is effectively still O(n)"
   ]
  },
  {
   "cell_type": "code",
   "execution_count": null,
   "metadata": {},
   "outputs": [],
   "source": [
    "'''\n",
    "Visually, rather than creating and populating the entire 'length' by 'length' matrix, we can cut it in half diagonally and deal with only the top half\n",
    "This results in a triangle of base and width = 'length', or essentially O(n/2)\n",
    "\n",
    "To create this triangle, can directly calculate the relevant [i][j] positions and their values (calcaluations were formulated in brute force method above)\n",
    "'''"
   ]
  },
  {
   "cell_type": "code",
   "execution_count": 62,
   "metadata": {},
   "outputs": [],
   "source": [
    "def xor(list):\n",
    "    #determining max bin length and the first output_xor\n",
    "    sorted_ls = sorted(list)[::-1]\n",
    "    output_xor = bin(sorted_ls[0])[2:]\n",
    "    max_bin_len = len(output_xor)\n",
    "\n",
    "    #performing xor operation on entire list\n",
    "    for i in range(1, len(sorted_ls)):\n",
    "        a_xor = output_xor\n",
    "        b_xor = bin(sorted_ls[i])[2:].zfill(max_bin_len)\n",
    "\n",
    "        #reseting output_xor and doing a ^ b\n",
    "        output_xor = ''\n",
    "        for j in range(max_bin_len):\n",
    "            output_xor += str(int(a_xor[j]) ^ int(b_xor[j]))\n",
    "    \n",
    "    #converting binary to decimal and return\n",
    "    return int(output_xor, 2)"
   ]
  },
  {
   "cell_type": "code",
   "execution_count": 64,
   "metadata": {},
   "outputs": [],
   "source": [
    "def solution(start, length):\n",
    "    #directly finding the values of the relevant [i][j] positions and appending to list\n",
    "    output_ls = []\n",
    "    for i in range(length):\n",
    "        for j in range(length - i):\n",
    "            output_ls.append(start + i*length + j)\n",
    "    return xor(output_ls)"
   ]
  },
  {
   "cell_type": "code",
   "execution_count": 65,
   "metadata": {},
   "outputs": [
    {
     "data": {
      "text/plain": [
       "2"
      ]
     },
     "execution_count": 65,
     "metadata": {},
     "output_type": "execute_result"
    }
   ],
   "source": [
    "start = 0\n",
    "length = 3\n",
    "solution(start, length)"
   ]
  },
  {
   "cell_type": "code",
   "execution_count": null,
   "metadata": {},
   "outputs": [],
   "source": []
  }
 ],
 "metadata": {
  "interpreter": {
   "hash": "e94d89c61edb7043d9dc1b3e1ce26d28166b8b6282f4d8bdddba238f6ca3cf12"
  },
  "kernelspec": {
   "display_name": "Python 3.8.12 64-bit ('PythonData': conda)",
   "language": "python",
   "name": "python3"
  },
  "language_info": {
   "codemirror_mode": {
    "name": "ipython",
    "version": 3
   },
   "file_extension": ".py",
   "mimetype": "text/x-python",
   "name": "python",
   "nbconvert_exporter": "python",
   "pygments_lexer": "ipython3",
   "version": "3.8.12"
  },
  "orig_nbformat": 4
 },
 "nbformat": 4,
 "nbformat_minor": 2
}
