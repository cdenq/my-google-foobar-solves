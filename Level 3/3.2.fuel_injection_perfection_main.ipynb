{
 "cells": [
  {
   "cell_type": "markdown",
   "metadata": {},
   "source": [
    "# Problem Statement"
   ]
  },
  {
   "cell_type": "code",
   "execution_count": 1,
   "metadata": {},
   "outputs": [],
   "source": [
    "# See all my google foobar solves:\n",
    "# https://github.com/cdenq/my-google-foobar-solves"
   ]
  },
  {
   "cell_type": "code",
   "execution_count": 1,
   "metadata": {},
   "outputs": [
    {
     "data": {
      "text/plain": [
       "\"\\nFuel Injection Perfection\\n=========================\\n\\nCommander Lambda has asked for your help to refine the automatic quantum antimatter fuel injection system for the LAMBCHOP doomsday device. It's a great chance for you to get a closer look at the LAMBCHOP -- and maybe sneak in a bit of sabotage while you're at it -- so you took the job gladly. \\n\\nQuantum antimatter fuel comes in small pellets, which is convenient since the many moving parts of the LAMBCHOP each need to be fed fuel one pellet at a time. However, minions dump pellets in bulk into the fuel intake. You need to figure out the most efficient way to sort and shift the pellets down to a single pellet at a time. \\n\\nThe fuel control mechanisms have three operations: \\n\\n1) Add one fuel pellet\\n2) Remove one fuel pellet\\n3) Divide the entire group of fuel pellets by 2 (due to the destructive energy released when a quantum antimatter pellet is cut in half, the safety controls will only allow this to happen if there is an even number of pellets)\\n\\nWrite a function called solution(n) which takes a positive integer as a string and returns the minimum number of operations needed to transform the number of pellets to 1. The fuel intake control panel can only display a number up to 309 digits long, so there won't ever be more pellets than you can express in that many digits.\\n\\nFor example:\\nsolution(4) returns 2: 4 -> 2 -> 1\\nsolution(15) returns 5: 15 -> 16 -> 8 -> 4 -> 2 -> 1\\n\""
      ]
     },
     "execution_count": 1,
     "metadata": {},
     "output_type": "execute_result"
    }
   ],
   "source": [
    "'''\n",
    "Fuel Injection Perfection\n",
    "=========================\n",
    "\n",
    "Commander Lambda has asked for your help to refine the automatic quantum antimatter fuel injection system for the LAMBCHOP\n",
    "doomsday device. It's a great chance for you to get a closer look at the LAMBCHOP -- and maybe sneak in a bit of sabotage\n",
    "while you're at it -- so you took the job gladly. \n",
    "\n",
    "Quantum antimatter fuel comes in small pellets, which is convenient since the many moving parts of the LAMBCHOP each need\n",
    "to be fed fuel one pellet at a time. However, minions dump pellets in bulk into the fuel intake. You need to figure out\n",
    "the most efficient way to sort and shift the pellets down to a single pellet at a time. \n",
    "\n",
    "The fuel control mechanisms have three operations: \n",
    "\n",
    "1) Add one fuel pellet\n",
    "2) Remove one fuel pellet\n",
    "3) Divide the entire group of fuel pellets by 2 (due to the destructive energy released when a quantum antimatter pellet\n",
    "is cut in half, the safety controls will only allow this to happen if there is an even number of pellets)\n",
    "\n",
    "Write a function called solution(n) which takes a positive integer as a string and returns the minimum number of operations\n",
    "needed to transform the number of pellets to 1. The fuel intake control panel can only display a number up to 309 digits long,\n",
    "so there won't ever be more pellets than you can express in that many digits.\n",
    "\n",
    "For example:\n",
    "solution(4) returns 2: 4 -> 2 -> 1\n",
    "solution(15) returns 5: 15 -> 16 -> 8 -> 4 -> 2 -> 1\n",
    "'''"
   ]
  },
  {
   "cell_type": "markdown",
   "metadata": {},
   "source": [
    "### Test Cases"
   ]
  },
  {
   "cell_type": "code",
   "execution_count": 2,
   "metadata": {},
   "outputs": [
    {
     "data": {
      "text/plain": [
       "\"\\n-- Python cases --\\nInput:\\nsolution.solution('15')\\nOutput:\\n    5\\n\\nInput:\\nsolution.solution('4')\\nOutput:\\n    2\\n\""
      ]
     },
     "execution_count": 2,
     "metadata": {},
     "output_type": "execute_result"
    }
   ],
   "source": [
    "'''\n",
    "-- Python cases --\n",
    "Input:\n",
    "solution.solution('15')\n",
    "Output:\n",
    "    5\n",
    "\n",
    "Input:\n",
    "solution.solution('4')\n",
    "Output:\n",
    "    2\n",
    "'''"
   ]
  },
  {
   "cell_type": "markdown",
   "metadata": {},
   "source": [
    "# Strategy & Solution"
   ]
  },
  {
   "cell_type": "markdown",
   "metadata": {},
   "source": [
    "### Brute Force"
   ]
  },
  {
   "cell_type": "code",
   "execution_count": 3,
   "metadata": {},
   "outputs": [
    {
     "data": {
      "text/plain": [
       "'\\nConstruct the entire tree for all branching outcomes of n.\\nIf n is even, we will divide by two\\nIf n is odd, we will branch out into n+1 and n-1\\n\\nThe moment any node hits 1, we will return the layer in the tree\\n'"
      ]
     },
     "execution_count": 3,
     "metadata": {},
     "output_type": "execute_result"
    }
   ],
   "source": [
    "'''\n",
    "Construct the entire tree for all branching outcomes of n.\n",
    "If n is even, we will divide by two\n",
    "If n is odd, we will branch out into n+1 and n-1\n",
    "\n",
    "The moment any node hits 1, we will return the layer in the tree\n",
    "'''"
   ]
  },
  {
   "cell_type": "markdown",
   "metadata": {},
   "source": [
    "### Faster Method (Attempt 1, Failed)"
   ]
  },
  {
   "cell_type": "code",
   "execution_count": 4,
   "metadata": {},
   "outputs": [
    {
     "data": {
      "text/plain": [
       "'\\nA faster method would be to push the num into some power of 2 (2,4,8,16,etc.) since a power of two will always have the lowest number of steps until it reaches 1.\\n\\nSo given any num, if it is even, we still always divide since that will give us the biggest reduction towards 1 in one step.\\nIf the number is odd, we check if +1 or -1 results in a power of two.\\nEg) given 7, we would add 1 to reach 8 (or 2^3), which would divide all the way down\\nEg) given 17, we would minus 1 to reach 15 (or 2^4)\\n\\nIf neither n+1 nor n-1 equal to a power of 2, we will -1 to get the smaller number\\n\\nNOTE: there is one edge case, which is the number 3. \\n+1 and -1 both reach a power of 2 (4 and 2), so we always -1 when its a 3 because 3->2->1 is one less step than 3->4->2->1\\n'"
      ]
     },
     "execution_count": 4,
     "metadata": {},
     "output_type": "execute_result"
    }
   ],
   "source": [
    "'''\n",
    "A faster method would be to push the num into some power of 2 (2,4,8,16,etc.) since a power of two will always have the lowest number of steps until it reaches 1.\n",
    "\n",
    "So given any num, if it is even, we still always divide since that will give us the biggest reduction towards 1 in one step.\n",
    "If the number is odd, we check if +1 or -1 results in a power of two.\n",
    "Eg) given 7, we would add 1 to reach 8 (or 2^3), which would divide all the way down\n",
    "Eg) given 17, we would minus 1 to reach 15 (or 2^4)\n",
    "\n",
    "If neither n+1 nor n-1 equal to a power of 2, we will -1 to get the smaller number\n",
    "\n",
    "NOTE: there is one edge case, which is the number 3. \n",
    "+1 and -1 both reach a power of 2 (4 and 2), so we always -1 when its a 3 because 3->2->1 is one less step than 3->4->2->1\n",
    "'''"
   ]
  },
  {
   "cell_type": "code",
   "execution_count": 5,
   "metadata": {},
   "outputs": [],
   "source": [
    "def is_power_two(n):\n",
    "    expo = 0\n",
    "    if (n == 0): #edge case for n\n",
    "        return False\n",
    "    while (n != 1):\n",
    "        if (n % 2 != 0):\n",
    "            return False\n",
    "        else:\n",
    "            n = n // 2\n",
    "            expo += 1\n",
    "    return expo"
   ]
  },
  {
   "cell_type": "code",
   "execution_count": 6,
   "metadata": {},
   "outputs": [],
   "source": [
    "def brute_solution(n):\n",
    "    n = int(n)\n",
    "    steps = 0\n",
    "    while (n > 1):\n",
    "        #if even, divide by 2\n",
    "        if (n % 2 == 0):\n",
    "            n = n / 2\n",
    "        #else, decide whether +1 or -1\n",
    "        else: \n",
    "            if (n == 3): #edge case: 3 always -1\n",
    "                n -= 1\n",
    "            elif is_power_two(n + 1) >= True: #only +1 if n+1 is a power of 2\n",
    "                return steps + 1 + is_power_two(n + 1)\n",
    "            else: #otherwise, always -1\n",
    "                n -= 1\n",
    "        steps += 1\n",
    "    return steps"
   ]
  },
  {
   "cell_type": "markdown",
   "metadata": {},
   "source": [
    "### Faster Method (Attempt 2, Failed)"
   ]
  },
  {
   "cell_type": "code",
   "execution_count": 7,
   "metadata": {},
   "outputs": [
    {
     "data": {
      "text/plain": [
       "'\\nThe previous method uses a function to check for powers, but there are lots of redundant calculations being performed.\\nEg) \\nChecking if 16 is a power of two, the function goes 16 -> 8 -> 4 -> 2 -> 1; returns 4.\\nHowever, if when function called to check if 8 is a power of 2, it will go 8 -> 4 -> etc.. but we had already calculated this before when we were checking for 16\\n\\nAs such, this method will populate a comprehensive list of powers of 2 up to the input num.\\nIf any num results in any number in the list, which is a O(1) calltime, it will just return the index position of the number in the list + 1, which would give the exponent of 2^i\\n\\nKnowing that a number is 2^i, we can add our steps so far to i to get the resulting total steps.\\n'"
      ]
     },
     "execution_count": 7,
     "metadata": {},
     "output_type": "execute_result"
    }
   ],
   "source": [
    "'''\n",
    "The previous method uses a function to check for powers, but there are lots of redundant calculations being performed.\n",
    "Eg) \n",
    "Checking if 16 is a power of two, the function goes 16 -> 8 -> 4 -> 2 -> 1; returns 4.\n",
    "However, if when function called to check if 8 is a power of 2, it will go 8 -> 4 -> etc.. but we had already calculated this before when we were checking for 16\n",
    "\n",
    "As such, this method will populate a comprehensive list of powers of 2 up to the input num.\n",
    "If any num results in any number in the list, which is a O(1) calltime, it will just return the index position of the number in the list + 1, which would give the exponent of 2^i\n",
    "\n",
    "Knowing that a number is 2^i, we can add our steps so far to i to get the resulting total steps.\n",
    "'''"
   ]
  },
  {
   "cell_type": "code",
   "execution_count": 8,
   "metadata": {},
   "outputs": [],
   "source": [
    "def faster_brute_solution(n):\n",
    "    n = int(n)\n",
    "    #generating list of powers of 2\n",
    "    powers_of_2 = []\n",
    "    expo = 0\n",
    "    while 2**expo < n:\n",
    "        expo += 1\n",
    "        powers_of_2.append(2**expo)\n",
    "\n",
    "    #determining min steps to 1\n",
    "    steps = 0\n",
    "    while (n > 1):\n",
    "        #if even, divide by 2\n",
    "        if (n % 2 == 0):\n",
    "            n = n / 2\n",
    "        #else, decide whether +1 or -1\n",
    "        else: \n",
    "            if (n == 3): #edge case: 3 always -1\n",
    "                n -= 1\n",
    "            elif (n + 1) in powers_of_2: #only +1 if the result is a power of 2\n",
    "                return steps + 1 + powers_of_2.index(n + 1) + 1\n",
    "            else: #otherwise, always -1\n",
    "                n -= 1\n",
    "        steps += 1\n",
    "    return steps"
   ]
  },
  {
   "cell_type": "markdown",
   "metadata": {},
   "source": [
    "### Faster Method (Attempt 3, Success)"
   ]
  },
  {
   "cell_type": "code",
   "execution_count": 9,
   "metadata": {},
   "outputs": [
    {
     "data": {
      "text/plain": [
       "'\\nAt higher numbers, the test fails. Turns out, always going with n-1 when neither n+1 nor n-1 results in a power of 2 is NOT the correct intuition.\\n\\nObserve that when take any even number and divide it by 2, the resulting factor is the \"number of 2s\" that goes into that even number.\\nEg)\\n34 / 2 = 17\\n36 / 2 = 18\\n\\nWe can categorize these even numbers based on the parity of its non-2 factor. So 34 is an \"odd\" even number because it has an odd number of 2s (seventeen 2\\'s), while\\n36 is an \"even\" even number because it has an even number of 2s (eighteen 2\\'s)\\n\\nNotice that any \"odd\" even number requires at least one extra step more than an \"even\" even number because it must either +1 or -1 to bring it to an even number.\\n\\nThus, whenever we get an odd number, we want to target \"even\" even numbers (aka -1 or +1 so that these odd numbers become \"even\" even numbers)\\nIf given 35, +1 to reach 36\\nIf given 37, -1 to reach 36\\nIf given 39, +1 to reach 40\\nIf given 41, -1 to reach 40 etc.\\n\\nWith this in mind we can develop a sequence of odds that must always -1 (5,9,13,17,21,etc.), and another sequence of odds that must always +1 (7,11,15,19,23,etc.).\\nNotice: this rule seems to also include moving any number to the nearest power of 2!\\n5 must -1, brings to 4\\n9 must -1, brings to 8\\n7 must +1, brings to 8\\n15 must +1, brings to 16\\n\\nA sequence of every other odd means a difference of 4 between each number within. Thus, \\nwe can check if the an odd is an \"always -1\" odd with n % 4 == 1\\nand if the odd is an \"always +1\" odd with n % 4 == 3\\n'"
      ]
     },
     "execution_count": 9,
     "metadata": {},
     "output_type": "execute_result"
    }
   ],
   "source": [
    "'''\n",
    "At higher numbers, the test fails. Turns out, always going with n-1 when neither n+1 nor n-1 results in a power of 2 is NOT the correct intuition.\n",
    "\n",
    "Observe that when take any even number and divide it by 2, the resulting factor is the \"number of 2s\" that goes into that even number.\n",
    "Eg)\n",
    "34 / 2 = 17\n",
    "36 / 2 = 18\n",
    "\n",
    "We can categorize these even numbers based on the parity of its non-2 factor. So 34 is an \"odd\" even number because it has an odd number of 2s (seventeen 2's), while\n",
    "36 is an \"even\" even number because it has an even number of 2s (eighteen 2's)\n",
    "\n",
    "Notice that any \"odd\" even number requires at least one extra step more than an \"even\" even number because it must either +1 or -1 to bring it to an even number.\n",
    "\n",
    "Thus, whenever we get an odd number, we want to target \"even\" even numbers (aka -1 or +1 so that these odd numbers become \"even\" even numbers)\n",
    "If given 35, +1 to reach 36\n",
    "If given 37, -1 to reach 36\n",
    "If given 39, +1 to reach 40\n",
    "If given 41, -1 to reach 40 etc.\n",
    "\n",
    "With this in mind we can develop a sequence of odds that must always -1 (5,9,13,17,21,etc.), and another sequence of odds that must always +1 (7,11,15,19,23,etc.).\n",
    "Notice: this rule seems to also include moving any number to the nearest power of 2!\n",
    "5 must -1, brings to 4\n",
    "9 must -1, brings to 8\n",
    "7 must +1, brings to 8\n",
    "15 must +1, brings to 16\n",
    "\n",
    "A sequence of every other odd means a difference of 4 between each number within. Thus, \n",
    "we can check if the an odd is an \"always -1\" odd with n % 4 == 1\n",
    "and if the odd is an \"always +1\" odd with n % 4 == 3\n",
    "'''"
   ]
  },
  {
   "cell_type": "code",
   "execution_count": 10,
   "metadata": {},
   "outputs": [],
   "source": [
    "def solution(n):\n",
    "    n = int(n)\n",
    "    steps = 0\n",
    "    while n > 1:\n",
    "        #if even, divide by 2\n",
    "        if n % 2 == 0:\n",
    "            n = n / 2\n",
    "        #if odd...\n",
    "        else:\n",
    "            if (n == 3) | (n % 4 == 1): #edge case or if 5,9,13,17,21,etc\n",
    "                n -= 1\n",
    "            else: #else is 7,11,15,19,etc\n",
    "                n += 1\n",
    "        steps += 1\n",
    "    return steps"
   ]
  },
  {
   "cell_type": "code",
   "execution_count": 11,
   "metadata": {},
   "outputs": [
    {
     "name": "stdout",
     "output_type": "stream",
     "text": [
      "5\n",
      "2\n",
      "24\n"
     ]
    }
   ],
   "source": [
    "test_cases = [15,4,234234]\n",
    "for num in test_cases:\n",
    "    print(solution(num))"
   ]
  },
  {
   "cell_type": "code",
   "execution_count": 12,
   "metadata": {},
   "outputs": [
    {
     "data": {
      "text/plain": [
       "'\\nI suspected this had somethign to do with each number\\'s binary represenetation given the base 2 nature and the reduction via 2.\\nI didn\\'t find anything super conclusive given my inexperience with binary numbers at the time of completing this exercise, but here were the patterns I noticed:\\n\\n1. all even numbers end in 0\\n2. all odd numbers end in 1\\n3. all \"even\" even numbers end in 00, all \"odd\" even numbers end in 10\\n4. the (-1) odd numbers group all end in 01, the (+1) odd numbers group end in 11\\n5. the solution above pushes all odd numbers towards binary numbers with an 00 ending\\n'"
      ]
     },
     "execution_count": 12,
     "metadata": {},
     "output_type": "execute_result"
    }
   ],
   "source": [
    "'''\n",
    "I suspected this had somethign to do with each number's binary represenetation given the base 2 nature and the reduction via 2.\n",
    "I didn't find anything super conclusive given my inexperience with binary numbers at the time of completing this exercise, but here were the patterns I noticed:\n",
    "\n",
    "1. all even numbers end in 0\n",
    "2. all odd numbers end in 1\n",
    "3. all \"even\" even numbers end in 00, all \"odd\" even numbers end in 10\n",
    "4. the (-1) odd numbers group all end in 01, the (+1) odd numbers group end in 11\n",
    "5. the solution above pushes all odd numbers towards binary numbers with an 00 ending\n",
    "'''"
   ]
  },
  {
   "cell_type": "code",
   "execution_count": 13,
   "metadata": {},
   "outputs": [],
   "source": [
    "def binary_display(a, b, c):\n",
    "    '''\n",
    "    gives the binary representation of numbers from a to b inclusive, with step of c\n",
    "    '''\n",
    "    max_bin_length = len(bin(b)[2:])\n",
    "    max_length = len(str(b))\n",
    "    for i in range(a, b+1, c):\n",
    "        print(f\"{str(i).zfill(max_length)}:{bin(i)[2:].zfill(max_bin_length)}\")"
   ]
  },
  {
   "cell_type": "code",
   "execution_count": 14,
   "metadata": {},
   "outputs": [
    {
     "name": "stdout",
     "output_type": "stream",
     "text": [
      "05:000101\n",
      "06:000110\n",
      "07:000111\n",
      "08:001000\n",
      "09:001001\n",
      "10:001010\n",
      "11:001011\n",
      "12:001100\n",
      "13:001101\n",
      "14:001110\n",
      "15:001111\n",
      "16:010000\n",
      "17:010001\n",
      "18:010010\n",
      "19:010011\n",
      "20:010100\n",
      "21:010101\n",
      "22:010110\n",
      "23:010111\n",
      "24:011000\n",
      "25:011001\n",
      "26:011010\n",
      "27:011011\n",
      "28:011100\n",
      "29:011101\n",
      "30:011110\n",
      "31:011111\n",
      "32:100000\n",
      "33:100001\n",
      "34:100010\n",
      "35:100011\n",
      "36:100100\n",
      "37:100101\n",
      "38:100110\n",
      "39:100111\n",
      "40:101000\n",
      "41:101001\n",
      "42:101010\n",
      "43:101011\n",
      "44:101100\n",
      "45:101101\n"
     ]
    }
   ],
   "source": [
    "#1 is trivial case, that's where we end\n",
    "#n%2=0 is even case, so always divide by 2\n",
    "#3 is edge case\n",
    "#hence, start w 4\n",
    "binary_display(4,45,1)"
   ]
  }
 ],
 "metadata": {
  "interpreter": {
   "hash": "e94d89c61edb7043d9dc1b3e1ce26d28166b8b6282f4d8bdddba238f6ca3cf12"
  },
  "kernelspec": {
   "display_name": "Python 3.8.12 64-bit ('PythonData': conda)",
   "language": "python",
   "name": "python3"
  },
  "language_info": {
   "codemirror_mode": {
    "name": "ipython",
    "version": 3
   },
   "file_extension": ".py",
   "mimetype": "text/x-python",
   "name": "python",
   "nbconvert_exporter": "python",
   "pygments_lexer": "ipython3",
   "version": "3.8.12"
  },
  "orig_nbformat": 4
 },
 "nbformat": 4,
 "nbformat_minor": 2
}
