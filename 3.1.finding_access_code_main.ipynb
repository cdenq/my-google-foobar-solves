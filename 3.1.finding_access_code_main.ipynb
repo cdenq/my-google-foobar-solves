{
 "cells": [
  {
   "cell_type": "markdown",
   "id": "b0d5556a",
   "metadata": {},
   "source": [
    "Find the Access Codes\n",
    "=====================\n",
    "\n",
    "In order to destroy Commander Lambda's LAMBCHOP doomsday device, you'll need access to it. But the only door leading to the LAMBCHOP chamber is secured with a unique lock system whose number of passcodes changes daily. Commander Lambda gets a report every day that includes the locks' access codes, but only the Commander knows how to figure out which of several lists contains the access codes. You need to find a way to determine which list contains the access codes once you're ready to go in. \n",
    "\n",
    "Fortunately, now that you're Commander Lambda's personal assistant, Lambda has confided to you that all the access codes are \"lucky triples\" in order to make it easier to find them in the lists. A \"lucky triple\" is a tuple (x, y, z) where x divides y and y divides z, such as (1, 2, 4). With that information, you can figure out which list contains the number of access codes that matches the number of locks on the door when you're ready to go in (for example, if there's 5 passcodes, you'd need to find a list with 5 \"lucky triple\" access codes).\n",
    "\n",
    "Write a function solution(l) that takes a list of positive integers l and counts the number of \"lucky triples\" of (li, lj, lk) where the list indices meet the requirement i < j < k.  The length of l is between 2 and 2000 inclusive.  The elements of l are between 1 and 999999 inclusive.  The solution fits within a signed 32-bit integer. Some of the lists are purposely generated without any access codes to throw off spies, so if no triples are found, return 0. \n",
    "\n",
    "For example, [1, 2, 3, 4, 5, 6] has the triples: [1, 2, 4], [1, 2, 6], [1, 3, 6], making the solution 3 total."
   ]
  },
  {
   "cell_type": "code",
   "execution_count": 6,
   "id": "950d3607",
   "metadata": {},
   "outputs": [],
   "source": [
    "# Brute Force Method\n",
    "def brute_solution(l):\n",
    "    every_trip = []\n",
    "    for i in range(len(l)):\n",
    "        for j in range(i+1, len(l)):\n",
    "            if l[j] % l[i] == 0:\n",
    "                for k in range(j+1, len(l)):\n",
    "                    if l[k] % l[j] == 0:\n",
    "                        every_trip.append([l[i], l[j], l[k]])\n",
    "    # print(every_trip)\n",
    "    return len(every_trip)"
   ]
  },
  {
   "cell_type": "markdown",
   "id": "d6aaeaa2",
   "metadata": {},
   "source": [
    "# Strategy\n",
    "\n",
    "Brute force method does a lot of re-calculation. Idea is to cache and then reference the calculations you've already done when you need them.\n",
    "\n",
    "To do this, we can create a tracker_list to cache the number of subsequent integers that any given integer divides evenly into.\n",
    "Eg) Given l = [1,2,3,4,5,6], and we take integer [4]. Subsequent integers are [1,2,3], and only [1,2] divide evenly into [4]. The length of [1,2] is 2, so we will cache 2 into our tracker_list.\n",
    "\n",
    "To generate this tracker_list, we can use a nested for-loop O(n2) to compare each value with every subsequent value, taking index limits into account (see code for the index limits).\n",
    "When comparing, if l[i] divides evenly into l[j] where j > i, we have found a lucky \"double\". Increment the corresponding value in the tracker list.\n",
    "At some point during this nested for-loop, when we discover that l[j] divides evenly into some l[k], where k > j, we have found another lucky \"double\".\n",
    "However, notice that if l[i] divides evenly into l[j], it must also divide evenly into l[k] by the transitive property. It turns out that when we discover the pair (l[j], l[k]), we actually also discover the lucky triple (l[i], l[j], l[k])\n",
    "\n",
    "Translating this into code:\n",
    "Whenever we find that l[j] divides evenly into l[k], where k > j, increment tracker_list[k] by 1 because tracker_list is tracking the number of integers before l[k] that divide evenly into it.\n",
    "At the same time, tracker_list[j] represents the number of integers before l[j] that divide evenly into l[j]\n",
    "tracker_list[j] thus represents the number of lucky triples we can make with the pair (l[i], l[j])\n",
    "We can account for all the lucky triples by incrementing a counter by tracker_list[j]\n"
   ]
  },
  {
   "cell_type": "code",
   "execution_count": 15,
   "id": "68bbcdd4",
   "metadata": {},
   "outputs": [],
   "source": [
    "# O(n2) Method\n",
    "def solution(l):\n",
    "    #create empty list to populate the count of legal pairs that divide into each other\n",
    "    tracker_list = [0] * len(l)\n",
    "    \n",
    "    # loop through list to get counts of pairs\n",
    "    trips = 0\n",
    "    for i in range(len(l) - 1):\n",
    "        for j in range(i + 1, len(l)):\n",
    "            if l[j] % l[i] == 0:\n",
    "                tracker_list[j] += 1\n",
    "                #calcuate the triples off of the number of pairs\n",
    "                trips += tracker_list[i]\n",
    "    return trips"
   ]
  },
  {
   "cell_type": "code",
   "execution_count": 14,
   "id": "02cce2e4",
   "metadata": {},
   "outputs": [
    {
     "name": "stdout",
     "output_type": "stream",
     "text": [
      "0, 1, 0\n",
      "0, 2, 0\n",
      "0, 3, 0\n",
      "0, 4, 0\n",
      "0, 5, 0\n",
      "1, 3, 1\n",
      "1, 5, 1\n",
      "2, 5, 1\n",
      "[0, 1, 1, 2, 1, 3]\n"
     ]
    },
    {
     "data": {
      "text/plain": [
       "3"
      ]
     },
     "execution_count": 14,
     "metadata": {},
     "output_type": "execute_result"
    }
   ],
   "source": [
    "solution([1, 2, 3, 4, 5, 6])\n",
    "#3"
   ]
  },
  {
   "cell_type": "code",
   "execution_count": null,
   "id": "bea9e275",
   "metadata": {},
   "outputs": [],
   "source": []
  }
 ],
 "metadata": {
  "kernelspec": {
   "display_name": "Python [conda env:PythonData] *",
   "language": "python",
   "name": "conda-env-PythonData-py"
  },
  "language_info": {
   "codemirror_mode": {
    "name": "ipython",
    "version": 3
   },
   "file_extension": ".py",
   "mimetype": "text/x-python",
   "name": "python",
   "nbconvert_exporter": "python",
   "pygments_lexer": "ipython3",
   "version": "3.8.12"
  }
 },
 "nbformat": 4,
 "nbformat_minor": 5
}
