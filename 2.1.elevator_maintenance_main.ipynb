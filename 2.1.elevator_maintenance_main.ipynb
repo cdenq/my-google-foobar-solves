{
 "cells": [
  {
   "cell_type": "code",
   "execution_count": 1,
   "metadata": {},
   "outputs": [],
   "source": [
    "def solution(l):\n",
    "    #convert list of strings into list of sublists (of integers)\n",
    "    split_ls = []\n",
    "    for i in l:\n",
    "        sub_ls = i.split('.')\n",
    "        return_ls = []\n",
    "        for j in sub_ls:\n",
    "            return_ls.append(int(j))\n",
    "        split_ls.append(return_ls)\n",
    "        sub_ls = []\n",
    "\n",
    "    #sort the list of lists (of ints)\n",
    "    sorted_ls = sorted(split_ls)\n",
    "\n",
    "    #convert back into list of strings\n",
    "    output_ls = []\n",
    "    for element in sorted_ls:\n",
    "        return_string = \"\"\n",
    "        for i in range(len(element)):\n",
    "            if i == len(element) - 1:\n",
    "                return_string += str(element[i])\n",
    "            else:\n",
    "                return_string += str(element[i]) + \".\"\n",
    "        output_ls.append(return_string.strip())\n",
    "        \n",
    "    #return\n",
    "    return output_ls"
   ]
  },
  {
   "cell_type": "code",
   "execution_count": 2,
   "metadata": {},
   "outputs": [
    {
     "data": {
      "text/plain": [
       "['0.1', '1.1.1', '1.2', '1.2.1', '1.11', '2', '2.0', '2.0.0']"
      ]
     },
     "execution_count": 2,
     "metadata": {},
     "output_type": "execute_result"
    }
   ],
   "source": [
    "solution([\"1.11\", \"2.0.0\", \"1.2\", \"2\", \"0.1\", \"1.2.1\", \"1.1.1\", \"2.0\"])"
   ]
  }
 ],
 "metadata": {
  "interpreter": {
   "hash": "ea2b65024e24df10fa5992686c1c8510a4831519011fa6b2d6f1788e8385f578"
  },
  "kernelspec": {
   "display_name": "Python 3.8.12 64-bit ('PythonData': conda)",
   "language": "python",
   "name": "python3"
  },
  "language_info": {
   "codemirror_mode": {
    "name": "ipython",
    "version": 3
   },
   "file_extension": ".py",
   "mimetype": "text/x-python",
   "name": "python",
   "nbconvert_exporter": "python",
   "pygments_lexer": "ipython3",
   "version": "3.8.12"
  },
  "orig_nbformat": 4
 },
 "nbformat": 4,
 "nbformat_minor": 2
}
