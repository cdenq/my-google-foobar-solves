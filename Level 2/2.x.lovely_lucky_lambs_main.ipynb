{
 "cells": [
  {
   "cell_type": "markdown",
   "metadata": {},
   "source": [
    "# Problem Statement"
   ]
  },
  {
   "cell_type": "code",
   "execution_count": 1,
   "metadata": {},
   "outputs": [],
   "source": [
    "# See all my google foobar solves:\n",
    "# https://github.com/cdenq/my-google-foobar-solves"
   ]
  },
  {
   "cell_type": "code",
   "execution_count": null,
   "metadata": {},
   "outputs": [],
   "source": [
    "'''\n",
    "Lovely Lucky LAMBs\n",
    "==================\n",
    "\n",
    "Being a henchman isn't all drudgery. Occasionally, when Commander Lambda is feeling generous, she'll hand out Lucky LAMBs (Lambda's\n",
    "All-purpose Money Bucks). Henchmen can use Lucky LAMBs to buy things like a second pair of socks, a pillow for their bunks, or even a third daily meal!\n",
    "\n",
    "However, actually passing out LAMBs isn't easy. Each henchman squad has a strict seniority ranking which must be respected - or else the henchmen\n",
    "will revolt and you'll all get demoted back to minions again!\n",
    "\n",
    "There are 4 key rules which you must follow in order to avoid a revolt:\n",
    "    1. The most junior henchman (with the least seniority) gets exactly 1 LAMB.  (There will always be at least 1 henchman on a team.)\n",
    "    2. A henchman will revolt if the person who ranks immediately above them gets more than double the number of LAMBs they do.\n",
    "    3. A henchman will revolt if the amount of LAMBs given to their next two subordinates combined is more than the number of LAMBs they get.  (Note\n",
    "that the two most junior henchmen won't have two subordinates, so this rule doesn't apply to them.  The 2nd most junior henchman would require\n",
    "at least as many LAMBs as the most junior henchman.)\n",
    "    4. You can always find more henchmen to pay - the Commander has plenty of employees.  If there are enough LAMBs left over such that another henchman\n",
    "could be added as the most senior while obeying the other rules, you must always add and pay that henchman.\n",
    "\n",
    "Note that you may not be able to hand out all the LAMBs. A single LAMB cannot be subdivided. That is, all henchmen must get a positive integer number of\n",
    "LAMBs.\n",
    "\n",
    "Write a function called answer(total_lambs), where total_lambs is the integer number of LAMBs in the handout you are trying to divide. It should return\n",
    "an integer which represents the difference between the minimum and maximum number of henchmen who can share the LAMBs (that is, being as generous as\n",
    "possible to those you pay and as stingy as possible, respectively) while still obeying all of the above rules to avoid a revolt.  For instance, if you\n",
    "had 10 LAMBs and were as generous as possible, you could only pay 3 henchmen (1, 2, and 4 LAMBs, in order of ascending seniority), whereas if you were\n",
    "as stingy as possible, you could pay 4 henchmen (1, 1, 2, and 3 LAMBs). Therefore, answer(10) should return 4-3 = 1.\n",
    "\n",
    "To keep things interesting, Commander Lambda varies the sizes of the Lucky LAMB payouts. You can expect total_lambs to always be a positive integer less\n",
    "than 1 billion (10 ^ 9).\n",
    "'''"
   ]
  },
  {
   "cell_type": "markdown",
   "metadata": {},
   "source": [
    "### Test Cases"
   ]
  },
  {
   "cell_type": "code",
   "execution_count": null,
   "metadata": {},
   "outputs": [],
   "source": [
    "'''\n",
    "-- Python cases --\n",
    "Inputs:\n",
    "    (int) total_lambs = 10\n",
    "Output:\n",
    "    (int) 1\n",
    "\n",
    "Inputs:\n",
    "    (int) total_lambs = 143\n",
    "Output:\n",
    "    (int) 3\n",
    "'''"
   ]
  },
  {
   "cell_type": "markdown",
   "metadata": {},
   "source": [
    "# Strategy & Solution"
   ]
  },
  {
   "cell_type": "markdown",
   "metadata": {},
   "source": [
    "### Brute Force"
   ]
  },
  {
   "cell_type": "code",
   "execution_count": null,
   "metadata": {},
   "outputs": [],
   "source": [
    "'''\n",
    "The most generous case (min number of henchman) would involve finding the least number of tiers \n",
    "(separated by a power of 2) such that their sums is either equal to or lower than the given amount.\n",
    "\n",
    "Eg) given $50, we continually sum up powers of 2 until it's right under 50\n",
    "1 = 1\n",
    "1+2 = 3\n",
    "1+2+4 = 7\n",
    "1+2+4+8 = 15\n",
    "1+2+4+8+16 = 31\n",
    "1+2+4+8+16+32 = 63, exceeds 50, so 16 is the highest payout\n",
    "\n",
    "We can then sum up the powers of 2 (including 2^0) to get the number of tiers. So for the sequence:\n",
    "1+2+4+8+16, this is a 2^4 + 2^0 = 5 tiers.\n",
    "\n",
    "Following rule 4, we continually add more senior henchman (aka the highest payout) until it exceeds our given 50:\n",
    "so...\n",
    "1+2+4+8+16+16n <= 50 OR\n",
    "31+16n <= 50\n",
    "solving that inequality, we get n = 1, meaning...\n",
    "1+2+4+8+16+16 = 47 is the final payroll.\n",
    "\n",
    "we can represent the total henchman as: i+1+n,\n",
    "where i is the largest exp of the payout of the most senior henchmen\n",
    "n is the number of additional most senior henchman added\n",
    "and the 1 represents the henchman that received 2^0 or $1\n",
    "\n",
    "------\n",
    "To find the stingiest case (max number of henchman), it would be the iteration of the fibonacci series\n",
    "(skipping the initial 0) such that the sum of all the nums don't exceed the given number.\n",
    "Eg) given $50 still,\n",
    "1 = 1\n",
    "1+1 = 2\n",
    "1+1+2 = 4\n",
    "1+1+2+3 = 7\n",
    "1+1+2+3+5 = 12\n",
    "1+1+2+3+5+8 = 20\n",
    "1+1+2+3+5+8+13 = 33\n",
    "1+1+2+3+5+8+13+21 = 54 exceeds, so 33 is the final payout\n",
    "\n",
    "Just like before, we need to check the number of senior henchman to pay, so...\n",
    "1+1+2+3+5+8+13+13n <= 50 OR\n",
    "33+13n <= 50\n",
    "n = 1, meaning 1+1+2+3+5+8+13+13 = 47 is the final payroll.\n",
    "the total henchmen would be the number of steps from the fibonacci series + n, so: fib + n\n",
    "\n",
    "the final answer would be...\n",
    "(fib + n) - (i + 1 + n)\n",
    "'''"
   ]
  },
  {
   "cell_type": "markdown",
   "metadata": {},
   "source": [
    "### Faster Method"
   ]
  },
  {
   "cell_type": "code",
   "execution_count": 2,
   "metadata": {},
   "outputs": [
    {
     "data": {
      "text/plain": [
       "'\\nusing some algebra, we can improve upon the brute method of manually checking the closest power of two and the fibonacci sequence by just directly\\ncalculating them\\n'"
      ]
     },
     "execution_count": 2,
     "metadata": {},
     "output_type": "execute_result"
    }
   ],
   "source": [
    "'''\n",
    "using some algebra, we can improve upon the brute method of manually checking the closest power of two and the fibonacci sequence by just directly\n",
    "calculating them\n",
    "\n",
    "calculating the closet power of 2 to our given lambs (L)\n",
    "2^n <= L\n",
    "nlog(2) <= log(L)\n",
    "n <= log(L) / log(2)\n",
    "n <= log2(L) #uses the change of base rule for log\n",
    "n rounded down to nearest int is the highest payout\n",
    "\n",
    "then calculating the number of senior officers (m) to add...\n",
    "summation(2^n) + m(2^n) <= L\n",
    "m <= (L - summation(2^n)) / (2^n)\n",
    "m rounded down to nearest int is the total number of additional senior officers to add\n",
    "\n",
    "we can then do n + m + 1 to get the generous\n",
    "remembering that the +1 is reprsenting the 2^0, or the henchman that got $1\n",
    "\n",
    "------\n",
    "to find the nth term of a fibonacci sequence directly, we can use binet's formula (proof left out)\n",
    "F(n) = [((1+5^.5) / 2)^n - (1-5^.5) / 2)^n] / [5^.5]\n",
    "\n",
    "and to find the sum, up to F(n) (proof also left out):\n",
    "E(F(n)) = F(n+2) - 1\n",
    "\n",
    "substituting these values in and setting as an inequality against the given LAMBS (L), we get...\n",
    "L >= summation(F(n))\n",
    "L >= F(n+2) - 1\n",
    "L + 1 >= [((1+5^.5) / 2)^(n+2) - (1-5^.5) / 2)^(n+2)] / [5^.5]\n",
    "this takes on the general form of c = a^x + b^x, which is an exponential diophantine equation and has no general form of solving.\n",
    "trying a binomial expansion of this also does not lead anywhere either.\n",
    "\n",
    "as such, we need to brute force for the closest sum of the fib sequence.\n",
    "'''"
   ]
  },
  {
   "cell_type": "code",
   "execution_count": 9,
   "metadata": {},
   "outputs": [],
   "source": [
    "def generous(lambs):\n",
    "    #finding closest power of 2\n",
    "    import math\n",
    "    exponent = int(math.log(lambs, 2))\n",
    "\n",
    "    #summation of all relevant powers of 2\n",
    "    summation = 0\n",
    "    for i in range(exponent + 1): #add 1 because the range function is not inclusive of the ending number\n",
    "        summation += 2**i\n",
    "\n",
    "    #adding more senior members\n",
    "    add_senior = int((lambs - summation)/(2**exponent)) \n",
    "    return exponent + add_senior + 1"
   ]
  },
  {
   "cell_type": "code",
   "execution_count": 77,
   "metadata": {},
   "outputs": [],
   "source": [
    "def stingy(lambs):\n",
    "    #finding the closest E(F(n)) to lambs\n",
    "    fib_ls = [1,1]\n",
    "    nth = 2\n",
    "    while sum(fib_ls) <= lambs:\n",
    "        fib_ls.append(fib_ls[-1] + fib_ls[-2])\n",
    "        nth += 1\n",
    "    fib_sum = sum(fib_ls[:-1])\n",
    "\n",
    "    #adding more senior members\n",
    "    add_senior = int((lambs - fib_sum)/fib_ls[-2])\n",
    "\n",
    "    return int(add_senior + nth - 1)"
   ]
  },
  {
   "cell_type": "code",
   "execution_count": 55,
   "metadata": {},
   "outputs": [],
   "source": [
    "def solution(lambs):\n",
    "    return stingy(lambs) - generous(lambs)"
   ]
  },
  {
   "cell_type": "code",
   "execution_count": 78,
   "metadata": {},
   "outputs": [
    {
     "name": "stdout",
     "output_type": "stream",
     "text": [
      "1\n",
      "2\n",
      "2\n"
     ]
    }
   ],
   "source": [
    "test_cases = [10,143,50]\n",
    "for num in test_cases:\n",
    "    print(solution(num))"
   ]
  },
  {
   "cell_type": "code",
   "execution_count": null,
   "metadata": {},
   "outputs": [],
   "source": []
  }
 ],
 "metadata": {
  "interpreter": {
   "hash": "e94d89c61edb7043d9dc1b3e1ce26d28166b8b6282f4d8bdddba238f6ca3cf12"
  },
  "kernelspec": {
   "display_name": "Python 3.8.12 64-bit ('PythonData': conda)",
   "language": "python",
   "name": "python3"
  },
  "language_info": {
   "codemirror_mode": {
    "name": "ipython",
    "version": 3
   },
   "file_extension": ".py",
   "mimetype": "text/x-python",
   "name": "python",
   "nbconvert_exporter": "python",
   "pygments_lexer": "ipython3",
   "version": "3.8.12"
  },
  "orig_nbformat": 4
 },
 "nbformat": 4,
 "nbformat_minor": 2
}
