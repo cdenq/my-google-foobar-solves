{
 "cells": [
  {
   "cell_type": "markdown",
   "metadata": {},
   "source": [
    "# Problem Statement"
   ]
  },
  {
   "cell_type": "code",
   "execution_count": 1,
   "metadata": {},
   "outputs": [
    {
     "data": {
      "text/plain": [
       "'\\nElevator Maintenance\\n=========================\\n\\nYou’ve been assigned the onerous task of elevator maintenance — ugh! It wouldn’t be so bad, except that all the elevator\\ndocumentation has been lying in a disorganized pile at the bottom of a filing cabinet for years, and you don’t even know\\nwhat elevator version numbers you’ll be working on.\\n\\nElevator versions are represented by a series of numbers, divided up into major, minor and revision integers. New versions\\nof an elevator increase the major number, e.g. 1, 2, 3, and so on. When new features are added to an elevator without being\\na complete new version, a second number named “minor” can be used to represent those new additions, e.g. 1.0, 1.1, 1.2, etc.\\nSmall fixes or maintenance work can be represented by a third number named “revision”, e.g. 1.1.1, 1.1.2, 1.2.0, and so on.\\nThe number zero can be used as a major for pre-release versions of elevators, e.g. 0.1, 0.5, 0.9.2, etc (Commander Lambda\\nis careful to always beta test her new technology, with her loyal henchmen as subjects!).\\n\\nGiven a list of elevator versions represented as strings, write a function solution(l) that returns the same list sorted in\\nascending order by major, minor, and revision number so that you can identify the current elevator version. The versions in\\nlist l will always contain major numbers, but minor and revision numbers are optional. If the version contains a revision number,\\nthen it will also have a minor number.\\n\\nFor example, given the list l as [“1.1.2”, “1.0”, “1.3.3”, “1.0.12”, “1.0.2”], the function solution(l) would return the list\\n[“1.0”, “1.0.2”, “1.0.12”, “1.1.2”, “1.3.3”]. If two or more versions are equivalent but one version contains more numbers than\\nthe others, then these versions must be sorted ascending based on how many numbers they have, e.g [“1”, “1.0”, “1.0.0”].\\n\\nThe number of elements in the list l will be at least 1 and will not exceed 100.\\n'"
      ]
     },
     "execution_count": 1,
     "metadata": {},
     "output_type": "execute_result"
    }
   ],
   "source": [
    "'''\n",
    "Elevator Maintenance\n",
    "=========================\n",
    "\n",
    "You’ve been assigned the onerous task of elevator maintenance — ugh! It wouldn’t be so bad, except that all the elevator\n",
    "documentation has been lying in a disorganized pile at the bottom of a filing cabinet for years, and you don’t even know\n",
    "what elevator version numbers you’ll be working on.\n",
    "\n",
    "Elevator versions are represented by a series of numbers, divided up into major, minor and revision integers. New versions\n",
    "of an elevator increase the major number, e.g. 1, 2, 3, and so on. When new features are added to an elevator without being\n",
    "a complete new version, a second number named “minor” can be used to represent those new additions, e.g. 1.0, 1.1, 1.2, etc.\n",
    "Small fixes or maintenance work can be represented by a third number named “revision”, e.g. 1.1.1, 1.1.2, 1.2.0, and so on.\n",
    "The number zero can be used as a major for pre-release versions of elevators, e.g. 0.1, 0.5, 0.9.2, etc (Commander Lambda\n",
    "is careful to always beta test her new technology, with her loyal henchmen as subjects!).\n",
    "\n",
    "Given a list of elevator versions represented as strings, write a function solution(l) that returns the same list sorted in\n",
    "ascending order by major, minor, and revision number so that you can identify the current elevator version. The versions in\n",
    "list l will always contain major numbers, but minor and revision numbers are optional. If the version contains a revision number,\n",
    "then it will also have a minor number.\n",
    "\n",
    "For example, given the list l as [“1.1.2”, “1.0”, “1.3.3”, “1.0.12”, “1.0.2”], the function solution(l) would return the list\n",
    "[“1.0”, “1.0.2”, “1.0.12”, “1.1.2”, “1.3.3”]. If two or more versions are equivalent but one version contains more numbers than\n",
    "the others, then these versions must be sorted ascending based on how many numbers they have, e.g [“1”, “1.0”, “1.0.0”].\n",
    "\n",
    "The number of elements in the list l will be at least 1 and will not exceed 100.\n",
    "'''"
   ]
  },
  {
   "cell_type": "markdown",
   "metadata": {},
   "source": [
    "### Test Cases"
   ]
  },
  {
   "cell_type": "code",
   "execution_count": 2,
   "metadata": {},
   "outputs": [
    {
     "data": {
      "text/plain": [
       "'\\n-- Python cases --\\nInput:\\nSolution.solution([\"1.11\", \"2.0.0\", \"1.2\", \"2\", \"0.1\", \"1.2.1\", \"1.1.1\", \"2.0\"])\\nOutput:\\n0.1,1.1.1,1.2,1.2.1,1.11,2,2.0,2.0.0\\n\\nInput:\\nSolution.solution([\"1.1.2\", \"1.0\", \"1.3.3\", \"1.0.12\", \"1.0.2\"])\\nOutput:\\n1.0,1.0.2,1.0.12,1.1.2,1.3.3\\n'"
      ]
     },
     "execution_count": 2,
     "metadata": {},
     "output_type": "execute_result"
    }
   ],
   "source": [
    "'''\n",
    "-- Python cases --\n",
    "Input:\n",
    "Solution.solution([\"1.11\", \"2.0.0\", \"1.2\", \"2\", \"0.1\", \"1.2.1\", \"1.1.1\", \"2.0\"])\n",
    "Output:\n",
    "0.1,1.1.1,1.2,1.2.1,1.11,2,2.0,2.0.0\n",
    "\n",
    "Input:\n",
    "Solution.solution([\"1.1.2\", \"1.0\", \"1.3.3\", \"1.0.12\", \"1.0.2\"])\n",
    "Output:\n",
    "1.0,1.0.2,1.0.12,1.1.2,1.3.3\n",
    "'''"
   ]
  },
  {
   "cell_type": "markdown",
   "metadata": {},
   "source": [
    "# Strategy & Solution"
   ]
  },
  {
   "cell_type": "markdown",
   "metadata": {},
   "source": [
    "### Brute Force"
   ]
  },
  {
   "cell_type": "code",
   "execution_count": 3,
   "metadata": {},
   "outputs": [
    {
     "data": {
      "text/plain": [
       "'\\nWe can split every item in the given list into a sublist of integers\\nEg) [2.3.1, 3.5.2] => [ [2,3,1], [3,5,2] ]\\n\\nWe can then directly sort a list of lists to get our desired ordering\\nConvert the sorted list of sublists into the version number strings\\n'"
      ]
     },
     "execution_count": 3,
     "metadata": {},
     "output_type": "execute_result"
    }
   ],
   "source": [
    "'''\n",
    "We can split every item in the given list into a sublist of integers\n",
    "Eg) [2.3.1, 3.5.2] => [ [2,3,1], [3,5,2] ]\n",
    "\n",
    "We can then directly sort a list of lists to get our desired ordering\n",
    "Convert the sorted list of sublists into the version number strings\n",
    "'''"
   ]
  },
  {
   "cell_type": "code",
   "execution_count": 4,
   "metadata": {},
   "outputs": [],
   "source": [
    "def solution(l):\n",
    "    #convert list of strings into list of sublists (of integers)\n",
    "    split_ls = []\n",
    "    for i in l:\n",
    "        sub_ls = i.split('.')\n",
    "        return_ls = []\n",
    "        for j in sub_ls:\n",
    "            return_ls.append(int(j))\n",
    "        split_ls.append(return_ls)\n",
    "        sub_ls = []\n",
    "\n",
    "    #sort the list of lists (of ints)\n",
    "    sorted_ls = sorted(split_ls)\n",
    "\n",
    "    #convert back into list of strings\n",
    "    output_ls = []\n",
    "    for element in sorted_ls:\n",
    "        return_string = \"\"\n",
    "        for i in range(len(element)):\n",
    "            if i == len(element) - 1:\n",
    "                return_string += str(element[i])\n",
    "            else:\n",
    "                return_string += str(element[i]) + \".\"\n",
    "        output_ls.append(return_string.strip())\n",
    "        \n",
    "    #return\n",
    "    return output_ls"
   ]
  },
  {
   "cell_type": "code",
   "execution_count": 5,
   "metadata": {},
   "outputs": [
    {
     "name": "stdout",
     "output_type": "stream",
     "text": [
      "['0.1', '1.1.1', '1.2', '1.2.1', '1.11', '2', '2.0', '2.0.0']\n",
      "['1.0', '1.0.2', '1.0.12', '1.1.2', '1.3.3']\n"
     ]
    }
   ],
   "source": [
    "test_cases = [[\"1.11\", \"2.0.0\", \"1.2\", \"2\", \"0.1\", \"1.2.1\", \"1.1.1\", \"2.0\"],\n",
    "              [\"1.1.2\", \"1.0\", \"1.3.3\", \"1.0.12\", \"1.0.2\"]\n",
    "]\n",
    "for ls in test_cases:\n",
    "    print(solution(ls))"
   ]
  }
 ],
 "metadata": {
  "interpreter": {
   "hash": "e94d89c61edb7043d9dc1b3e1ce26d28166b8b6282f4d8bdddba238f6ca3cf12"
  },
  "kernelspec": {
   "display_name": "Python 3.8.12 64-bit ('PythonData': conda)",
   "language": "python",
   "name": "python3"
  },
  "language_info": {
   "codemirror_mode": {
    "name": "ipython",
    "version": 3
   },
   "file_extension": ".py",
   "mimetype": "text/x-python",
   "name": "python",
   "nbconvert_exporter": "python",
   "pygments_lexer": "ipython3",
   "version": "3.8.12"
  },
  "orig_nbformat": 4
 },
 "nbformat": 4,
 "nbformat_minor": 2
}
