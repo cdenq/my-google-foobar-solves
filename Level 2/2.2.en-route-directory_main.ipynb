{
 "cells": [
  {
   "cell_type": "markdown",
   "metadata": {},
   "source": [
    "# Problem Statement"
   ]
  },
  {
   "cell_type": "code",
   "execution_count": 3,
   "metadata": {},
   "outputs": [],
   "source": [
    "# See all my google foobar solves:\n",
    "# https://github.com/cdenq/my-google-foobar-solves"
   ]
  },
  {
   "cell_type": "code",
   "execution_count": 4,
   "metadata": {},
   "outputs": [
    {
     "data": {
      "text/plain": [
       "'\\nEn Route Salute\\n=========================\\n\\nCommander Lambda loves efficiency and hates anything that wastes time. She\\'s a busy lamb, after all! She generously rewards henchmen who identify sources of inefficiency and come up with ways to remove them. You\\'ve spotted one such source, and you think solving it will help you build the reputation you need to get promoted.\\n\\nEvery time the Commander\\'s employees pass each other in the hall, each of them must stop and salute each other - one at a time - before resuming their path. A salute is five seconds long, so each exchange of salutes takes a full ten seconds (Commander Lambda\\'s salute is a bit, er, involved). You think that by removing the salute requirement, you could save several collective hours of employee time per day. But first, you need to show her how bad the problem really is.\\n\\nWrite a program that counts how many salutes are exchanged during a typical walk along a hallway. The hall is represented by a string. For example: \"--->-><-><-->-\"\\n\\nEach hallway string will contain three different types of characters: \\'>\\', an employee walking to the right; \\'<\\', an employee walking to the left; and \\'-\\', an empty space. Every employee walks at the same speed either to right or to the left, according to their direction. Whenever two employees cross, each of them salutes the other. They then continue walking until they reach the end, finally leaving the hallway. In the above example, they salute 10 times.\\n\\nWrite a function answer(s) which takes a string representing employees walking along a hallway and returns the number of times the employees will salute. s will contain at least 1 and at most 100 characters, each one of -, >, or <.\\n'"
      ]
     },
     "execution_count": 4,
     "metadata": {},
     "output_type": "execute_result"
    }
   ],
   "source": [
    "'''\n",
    "En Route Salute\n",
    "=========================\n",
    "\n",
    "Commander Lambda loves efficiency and hates anything that wastes time. She's a busy lamb, after all!\n",
    "She generously rewards henchmen who identify sources of inefficiency and come up with ways to remove them.\n",
    "You've spotted one such source, and you think solving it will help you build the reputation you need to get promoted.\n",
    "\n",
    "Every time the Commander's employees pass each other in the hall, each of them must stop and salute each other - one at a time -\n",
    "before resuming their path. A salute is five seconds long, so each exchange of salutes takes a full ten seconds\n",
    "(Commander Lambda's salute is a bit, er, involved). You think that by removing the salute requirement, you could save several\n",
    "collective hours of employee time per day. But first, you need to show her how bad the problem really is.\n",
    "\n",
    "Write a program that counts how many salutes are exchanged during a typical walk along a hallway. The hall is represented by\n",
    "a string. For example: \"--->-><-><-->-\"\n",
    "\n",
    "Each hallway string will contain three different types of characters: '>', an employee walking to the right; '<', an employee\n",
    "walking to the left; and '-', an empty space. Every employee walks at the same speed either to right or to the left, according\n",
    "to their direction. Whenever two employees cross, each of them salutes the other. They then continue walking until they reach\n",
    "the end, finally leaving the hallway. In the above example, they salute 10 times.\n",
    "\n",
    "Write a function answer(s) which takes a string representing employees walking along a hallway and returns the number of times\n",
    "the employees will salute. s will contain at least 1 and at most 100 characters, each one of -, >, or <.\n",
    "'''"
   ]
  },
  {
   "cell_type": "markdown",
   "metadata": {},
   "source": [
    "### Test Cases"
   ]
  },
  {
   "cell_type": "code",
   "execution_count": 5,
   "metadata": {},
   "outputs": [
    {
     "data": {
      "text/plain": [
       "'\\n-- Python cases --\\nInput:\\nsolution.solution(\">----<\")\\nOutput:\\n    2\\n\\nInput:\\nsolution.solution(\"<<>><\")\\nOutput:\\n    4\\n'"
      ]
     },
     "execution_count": 5,
     "metadata": {},
     "output_type": "execute_result"
    }
   ],
   "source": [
    "'''\n",
    "-- Python cases --\n",
    "Input:\n",
    "solution.solution(\">----<\")\n",
    "Output:\n",
    "    2\n",
    "\n",
    "Input:\n",
    "solution.solution(\"<<>><\")\n",
    "Output:\n",
    "    4\n",
    "'''"
   ]
  },
  {
   "cell_type": "markdown",
   "metadata": {},
   "source": [
    "# Strategy & Solution"
   ]
  },
  {
   "cell_type": "markdown",
   "metadata": {},
   "source": [
    "### Brute Force"
   ]
  },
  {
   "cell_type": "code",
   "execution_count": 6,
   "metadata": {},
   "outputs": [
    {
     "data": {
      "text/plain": [
       "'\\nGiven a string, every time there is a:\\n1. >, count the number of < after it\\n2. <, count the number of > before it\\n'"
      ]
     },
     "execution_count": 6,
     "metadata": {},
     "output_type": "execute_result"
    }
   ],
   "source": [
    "'''\n",
    "Given a string, every time there is a:\n",
    "1. >, count the number of < after it\n",
    "2. <, count the number of > before it\n",
    "'''"
   ]
  },
  {
   "cell_type": "code",
   "execution_count": 7,
   "metadata": {},
   "outputs": [],
   "source": [
    "def solution(s):\n",
    "    # print(seq)\n",
    "    total = 0\n",
    "    for i in range(len(s)):\n",
    "        # print(f\"{i}/{len(seq)-1}, {seq[i]}\")\n",
    "        if s[i] == '>':\n",
    "            # print(f\"{seq[i]} searching for < in {seq[i+1:]}, found {seq[i+1:].count('<')}\")\n",
    "            total += s[i+1:].count('<')\n",
    "            # print(f\"Total: {total}\")\n",
    "        else: #else is '<'\n",
    "            # print(f\"{seq[i]} searching for > in {seq[0:i]}, found {seq[0:i].count('>')}\")\n",
    "            total += s[0:i].count('>')\n",
    "            # print(f\"Total: {total}\")\n",
    "    return total"
   ]
  },
  {
   "cell_type": "markdown",
   "metadata": {},
   "source": [
    "### Faster Method"
   ]
  },
  {
   "cell_type": "code",
   "execution_count": 8,
   "metadata": {},
   "outputs": [
    {
     "data": {
      "text/plain": [
       "\"\\nA small optimization can be made:\\n1. > facing the right of the string with no < before the > reaches the end\\n2. < facing the left of the string with no > before the < reaches the start\\n\\nWe don't need to check these employees because they leave the hallway before saltuing anyone.\\n\\nThus, we can trim the string of all unnecessary characters\\n\""
      ]
     },
     "execution_count": 8,
     "metadata": {},
     "output_type": "execute_result"
    }
   ],
   "source": [
    "'''\n",
    "A small optimization can be made:\n",
    "1. > facing the right of the string with no < before the > reaches the end\n",
    "2. < facing the left of the string with no > before the < reaches the start\n",
    "\n",
    "We don't need to check these employees because they leave the hallway before saltuing anyone.\n",
    "\n",
    "Thus, we can trim the string of all unnecessary characters\n",
    "'''"
   ]
  },
  {
   "cell_type": "code",
   "execution_count": 9,
   "metadata": {},
   "outputs": [],
   "source": [
    "def solution(s):\n",
    "    # trim the unnecessary strings\n",
    "    seq = s.replace('-','').lstrip('<').rstrip('>')\n",
    "\n",
    "    # define our output storage var\n",
    "    total = 0\n",
    "\n",
    "    # 1 pass through seq, O(n)\n",
    "    for i in range(len(seq)):\n",
    "        if seq[i] == '>':\n",
    "            total += seq[i+1:].count('<') #count all the < that come after current\n",
    "        else: #else is '<'\n",
    "            total += seq[0:i].count('>') # count all the > that come before current\n",
    "    return total"
   ]
  },
  {
   "cell_type": "code",
   "execution_count": 10,
   "metadata": {},
   "outputs": [
    {
     "name": "stdout",
     "output_type": "stream",
     "text": [
      "2\n",
      "4\n",
      "158\n"
     ]
    }
   ],
   "source": [
    "test_cases = [\">----<\",\n",
    "              \"<<>><\",\n",
    "              \"><><><<><><<<<><><>>>----<><---><\"]\n",
    "for str in test_cases:\n",
    "    print(solution(str))"
   ]
  }
 ],
 "metadata": {
  "interpreter": {
   "hash": "e94d89c61edb7043d9dc1b3e1ce26d28166b8b6282f4d8bdddba238f6ca3cf12"
  },
  "kernelspec": {
   "display_name": "Python 3.8.12 64-bit ('PythonData': conda)",
   "language": "python",
   "name": "python3"
  },
  "language_info": {
   "codemirror_mode": {
    "name": "ipython",
    "version": 3
   },
   "file_extension": ".py",
   "mimetype": "text/x-python",
   "name": "python",
   "nbconvert_exporter": "python",
   "pygments_lexer": "ipython3",
   "version": "3.8.12"
  },
  "orig_nbformat": 4
 },
 "nbformat": 4,
 "nbformat_minor": 2
}
