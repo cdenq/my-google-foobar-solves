{
 "cells": [
  {
   "cell_type": "markdown",
   "metadata": {},
   "source": [
    "# Problem Statement"
   ]
  },
  {
   "cell_type": "code",
   "execution_count": 1,
   "metadata": {},
   "outputs": [],
   "source": [
    "# See all my google foobar solves:\n",
    "# https://github.com/cdenq/my-google-foobar-solves"
   ]
  },
  {
   "cell_type": "code",
   "execution_count": 2,
   "metadata": {},
   "outputs": [
    {
     "data": {
      "text/plain": [
       "\"\\nSolar Doomsday\\n=========================\\n\\nWho would've guessed? Doomsday devices take a LOT of power. Commander Lambda wants to supplement the LAMBCHOP's\\nquantum antimatter reactor core with solar arrays, and she's tasked you with setting up the solar panels.\\n\\nDue to the nature of the space station's outer paneling, all of its solar panels must be squares. Fortunately,\\nyou have one very large and flat area of solar material, a pair of industrial-strength scissors, and enough\\nMegaCorp Solar Tape(TM) to piece together any excess panel material into more squares. For example, if you had\\na total area of 12 square yards of solar material, you would be able to make one 3x3 square panel (with a total area of 9).\\nThat would leave 3 square yards, so you can turn those into three 1x1 square solar panels.\\n\\nWrite a function solution(area) that takes as its input a single unit of measure representing the total area\\nof solar panels you have (between 1 and 1000000 inclusive) and returns a list of the areas of the largest\\nsquares you could make out of those panels, starting with the largest squares first. So, following the example\\nabove, solution(12) would return [9, 1, 1, 1].\\n\""
      ]
     },
     "execution_count": 2,
     "metadata": {},
     "output_type": "execute_result"
    }
   ],
   "source": [
    "'''\n",
    "Solar Doomsday\n",
    "=========================\n",
    "\n",
    "Who would've guessed? Doomsday devices take a LOT of power. Commander Lambda wants to supplement the LAMBCHOP's\n",
    "quantum antimatter reactor core with solar arrays, and she's tasked you with setting up the solar panels.\n",
    "\n",
    "Due to the nature of the space station's outer paneling, all of its solar panels must be squares. Fortunately,\n",
    "you have one very large and flat area of solar material, a pair of industrial-strength scissors, and enough\n",
    "MegaCorp Solar Tape(TM) to piece together any excess panel material into more squares. For example, if you had\n",
    "a total area of 12 square yards of solar material, you would be able to make one 3x3 square panel (with a total area of 9).\n",
    "That would leave 3 square yards, so you can turn those into three 1x1 square solar panels.\n",
    "\n",
    "Write a function solution(area) that takes as its input a single unit of measure representing the total area\n",
    "of solar panels you have (between 1 and 1000000 inclusive) and returns a list of the areas of the largest\n",
    "squares you could make out of those panels, starting with the largest squares first. So, following the example\n",
    "above, solution(12) would return [9, 1, 1, 1].\n",
    "'''"
   ]
  },
  {
   "cell_type": "markdown",
   "metadata": {},
   "source": [
    "### Test Cases"
   ]
  },
  {
   "cell_type": "code",
   "execution_count": 3,
   "metadata": {},
   "outputs": [
    {
     "data": {
      "text/plain": [
       "'\\n-- Python cases --\\nInput:\\nsolution.solution(12)\\nOutput: \\n    [9, 1, 1, 1]\\n\\nInput:\\nsolution.solution(15324)\\nOutput:\\n   [15129, 169, 25, 1]\\n'"
      ]
     },
     "execution_count": 3,
     "metadata": {},
     "output_type": "execute_result"
    }
   ],
   "source": [
    "'''\n",
    "-- Python cases --\n",
    "Input:\n",
    "solution.solution(12)\n",
    "Output: \n",
    "    [9, 1, 1, 1]\n",
    "\n",
    "Input:\n",
    "solution.solution(15324)\n",
    "Output:\n",
    "   [15129, 169, 25, 1]\n",
    "'''"
   ]
  },
  {
   "cell_type": "markdown",
   "metadata": {},
   "source": [
    "# Strategy & Solution"
   ]
  },
  {
   "cell_type": "markdown",
   "metadata": {},
   "source": [
    "### Brute Force"
   ]
  },
  {
   "cell_type": "code",
   "execution_count": 4,
   "metadata": {},
   "outputs": [
    {
     "data": {
      "text/plain": [
       "\"\\nGiven the total area, we can square root it and round down to the nearest whole integer. Call this whole integer 'a'\\nSubtract a^2 from the total area, and append a^2 to a list.\\n\\nTake the resulting area and repeat recursively until you get 0.\\n\""
      ]
     },
     "execution_count": 4,
     "metadata": {},
     "output_type": "execute_result"
    }
   ],
   "source": [
    "'''\n",
    "Given the total area, we can square root it and round down to the nearest whole integer. Call this whole integer 'a'\n",
    "Subtract a^2 from the total area, and append a^2 to a list.\n",
    "\n",
    "Take the resulting area and repeat recursively until you get 0.\n",
    "'''"
   ]
  },
  {
   "cell_type": "code",
   "execution_count": 5,
   "metadata": {},
   "outputs": [],
   "source": [
    "def solution(n):\n",
    "    output_ls = []\n",
    "    while n != 1:\n",
    "        biggest_square_area = int(n ** 0.5)**2\n",
    "        output_ls.append(biggest_square_area)\n",
    "        n -= biggest_square_area\n",
    "    output_ls.append(1) #append the last 1x1 square\n",
    "    return output_ls"
   ]
  },
  {
   "cell_type": "code",
   "execution_count": 6,
   "metadata": {},
   "outputs": [
    {
     "name": "stdout",
     "output_type": "stream",
     "text": [
      "[9, 1, 1, 1]\n",
      "[15129, 169, 25, 1]\n"
     ]
    }
   ],
   "source": [
    "test_cases = [12,15324]\n",
    "for num in test_cases:\n",
    "    print(solution(num))"
   ]
  }
 ],
 "metadata": {
  "interpreter": {
   "hash": "e94d89c61edb7043d9dc1b3e1ce26d28166b8b6282f4d8bdddba238f6ca3cf12"
  },
  "kernelspec": {
   "display_name": "Python 3.8.12 64-bit ('PythonData': conda)",
   "language": "python",
   "name": "python3"
  },
  "language_info": {
   "codemirror_mode": {
    "name": "ipython",
    "version": 3
   },
   "file_extension": ".py",
   "mimetype": "text/x-python",
   "name": "python",
   "nbconvert_exporter": "python",
   "pygments_lexer": "ipython3",
   "version": "3.8.12"
  },
  "orig_nbformat": 4
 },
 "nbformat": 4,
 "nbformat_minor": 2
}
