{
 "cells": [
  {
   "cell_type": "markdown",
   "metadata": {},
   "source": [
    "# Problem Statement"
   ]
  },
  {
   "cell_type": "code",
   "execution_count": 1,
   "metadata": {},
   "outputs": [
    {
     "data": {
      "text/plain": [
       "'\\nSkipping Work\\n=========================\\n\\nCommander Lambda is all about efficiency, including using her bunny \"workers\" for manual labor. \\nBut no one\\'s been properly monitoring the labor shifts for a while and they\\'ve gotten quite mixed up.\\nYou\\'ve been given the task of fixing them, but after you wrote up new shifts you realized that\\nsome bunny workers had been transferred to a different area and aren\\'t available for their assigned shifts.\\nManually sorting through each shift list to compare against work area lists will take forever -- remember, \\nCommander Lambda loves efficiency!\\n\\nGiven two almost identical lists of worker IDs x and y where one of the lists contains an additional ID,\\nwrite a function solution(x, y) that compares the lists and returns the additional ID.\\n\\nFor example, given the lists x = [13, 5, 6, 2, 5] and y = [5, 2, 5, 13], the function solution(x, y)\\nwould return 6 because the list x contains the integer 6 and the list y doesn\\'t. Given the lists\\nx = [14, 27, 1, 4, 2, 50, 3, 1] and y = [2, 4, -4, 3, 1, 1, 14, 27, 50], the function solution(x, y)\\nwould return -4 because the list y contains the integer -4 and the list x doesn\\'t.\\n\\nIn each test case, the lists x and y will always contain n non-unique integers where n is at least 1\\nbut never more than 99, and one of the lists will contain an additional unique integer which should be\\nreturned by the function. The same n non-unique integers will be present on both lists, but they might\\nappear in a different order like in the examples above. Commander Lambda likes to keep the numbers short,\\nso every worker ID will be between -1000 and 1000.\\n'"
      ]
     },
     "execution_count": 1,
     "metadata": {},
     "output_type": "execute_result"
    }
   ],
   "source": [
    "'''\n",
    "Skipping Work\n",
    "=========================\n",
    "\n",
    "Commander Lambda is all about efficiency, including using her bunny \"workers\" for manual labor. \n",
    "But no one's been properly monitoring the labor shifts for a while and they've gotten quite mixed up.\n",
    "You've been given the task of fixing them, but after you wrote up new shifts you realized that\n",
    "some bunny workers had been transferred to a different area and aren't available for their assigned shifts.\n",
    "Manually sorting through each shift list to compare against work area lists will take forever -- remember, \n",
    "Commander Lambda loves efficiency!\n",
    "\n",
    "Given two almost identical lists of worker IDs x and y where one of the lists contains an additional ID,\n",
    "write a function solution(x, y) that compares the lists and returns the additional ID.\n",
    "\n",
    "For example, given the lists x = [13, 5, 6, 2, 5] and y = [5, 2, 5, 13], the function solution(x, y)\n",
    "would return 6 because the list x contains the integer 6 and the list y doesn't. Given the lists\n",
    "x = [14, 27, 1, 4, 2, 50, 3, 1] and y = [2, 4, -4, 3, 1, 1, 14, 27, 50], the function solution(x, y)\n",
    "would return -4 because the list y contains the integer -4 and the list x doesn't.\n",
    "\n",
    "In each test case, the lists x and y will always contain n non-unique integers where n is at least 1\n",
    "but never more than 99, and one of the lists will contain an additional unique integer which should be\n",
    "returned by the function. The same n non-unique integers will be present on both lists, but they might\n",
    "appear in a different order like in the examples above. Commander Lambda likes to keep the numbers short,\n",
    "so every worker ID will be between -1000 and 1000.\n",
    "'''"
   ]
  },
  {
   "cell_type": "markdown",
   "metadata": {},
   "source": [
    "### Test Cases"
   ]
  },
  {
   "cell_type": "code",
   "execution_count": 2,
   "metadata": {},
   "outputs": [
    {
     "data": {
      "text/plain": [
       "'\\n-- Python cases --\\nInput:\\nSolution.solution([13, 5, 6, 2, 5], [5, 2, 5, 13])\\nOutput:\\n6\\n\\nInput:\\nSolution.solution([14, 27, 1, 4, 2, 50, 3, 1], [2, 4, -4, 3, 1, 1, 14, 27, 50])\\nOutput:\\n-4\\n'"
      ]
     },
     "execution_count": 2,
     "metadata": {},
     "output_type": "execute_result"
    }
   ],
   "source": [
    "'''\n",
    "-- Python cases --\n",
    "Input:\n",
    "Solution.solution([13, 5, 6, 2, 5], [5, 2, 5, 13])\n",
    "Output:\n",
    "6\n",
    "\n",
    "Input:\n",
    "Solution.solution([14, 27, 1, 4, 2, 50, 3, 1], [2, 4, -4, 3, 1, 1, 14, 27, 50])\n",
    "Output:\n",
    "-4\n",
    "'''"
   ]
  },
  {
   "cell_type": "markdown",
   "metadata": {},
   "source": [
    "# Strategy & Solution"
   ]
  },
  {
   "cell_type": "markdown",
   "metadata": {},
   "source": [
    "### Brute Force O(n^2)"
   ]
  },
  {
   "cell_type": "code",
   "execution_count": 3,
   "metadata": {},
   "outputs": [
    {
     "data": {
      "text/plain": [
       "\"\\nLoop through the smaller array and check if the current smaller array number is in the other array.\\n\\nIf it's not, then the current smaller array number is the odd one out.\\n\\nIf reach the end of the smaller array, then the last value in the bigger array is the odd one out.\\n\""
      ]
     },
     "execution_count": 3,
     "metadata": {},
     "output_type": "execute_result"
    }
   ],
   "source": [
    "'''\n",
    "Loop through the smaller array and check if the current smaller array number is in the other array.\n",
    "\n",
    "If it's not, then the current smaller array number is the odd one out.\n",
    "\n",
    "If reach the end of the smaller array, then the last value in the bigger array is the odd one out.\n",
    "'''"
   ]
  },
  {
   "cell_type": "markdown",
   "metadata": {},
   "source": [
    "### Faster Method O(n)"
   ]
  },
  {
   "cell_type": "code",
   "execution_count": 4,
   "metadata": {},
   "outputs": [
    {
     "data": {
      "text/plain": [
       "'\\nA slight improvement can be made by sorting the array first. The \"in\" operator is essentially another for-loop, which on average is O(n).\\nO(n) for iterating, and then another O(n) to do the \"in\" operator leads to O(n^2)\\n\\nThat way when iterating through the smaller array, the moment the smaller[i] != larger[i], we know that is the missing value\\n'"
      ]
     },
     "execution_count": 4,
     "metadata": {},
     "output_type": "execute_result"
    }
   ],
   "source": [
    "'''\n",
    "A slight improvement can be made by sorting the array first. The \"in\" operator is essentially another for-loop, which on average is O(n).\n",
    "O(n) for iterating, and then another O(n) to do the \"in\" operator leads to O(n^2)\n",
    "\n",
    "That way when iterating through the smaller array, the moment the smaller[i] != larger[i], we know that is the missing value\n",
    "'''"
   ]
  },
  {
   "cell_type": "code",
   "execution_count": 5,
   "metadata": {},
   "outputs": [],
   "source": [
    "def solution(x, y):\n",
    "    #sorting\n",
    "    s_x = sorted(x)\n",
    "    s_y = sorted(y)\n",
    "    \n",
    "    #determining bigger/smaller arrays\n",
    "    if len(s_x) > len(s_y):\n",
    "        big = s_x\n",
    "        small = s_y\n",
    "    else:\n",
    "        big = s_y\n",
    "        small = s_x\n",
    "        \n",
    "    #determining the odd number out\n",
    "    for i in range(len(small)):\n",
    "        if big[i] != small[i]:\n",
    "            return big[i]\n",
    "    return big[-1] #if never found, then return last in big array"
   ]
  },
  {
   "cell_type": "code",
   "execution_count": 6,
   "metadata": {},
   "outputs": [
    {
     "name": "stdout",
     "output_type": "stream",
     "text": [
      "6\n",
      "-4\n"
     ]
    }
   ],
   "source": [
    "test_cases = [([13, 5, 6, 2, 5], [5, 2, 5, 13]),\n",
    "              ([14, 27, 1, 4, 2, 50, 3, 1], [2, 4, -4, 3, 1, 1, 14, 27, 50])\n",
    "]\n",
    "for tuple in test_cases:\n",
    "    print(solution(tuple[0], tuple[1]))"
   ]
  }
 ],
 "metadata": {
  "interpreter": {
   "hash": "e94d89c61edb7043d9dc1b3e1ce26d28166b8b6282f4d8bdddba238f6ca3cf12"
  },
  "kernelspec": {
   "display_name": "Python 3.8.12 64-bit ('PythonData': conda)",
   "language": "python",
   "name": "python3"
  },
  "language_info": {
   "codemirror_mode": {
    "name": "ipython",
    "version": 3
   },
   "file_extension": ".py",
   "mimetype": "text/x-python",
   "name": "python",
   "nbconvert_exporter": "python",
   "pygments_lexer": "ipython3",
   "version": "3.8.12"
  },
  "orig_nbformat": 4
 },
 "nbformat": 4,
 "nbformat_minor": 2
}
