{
 "cells": [
  {
   "cell_type": "markdown",
   "metadata": {},
   "source": [
    "# Problem Statement"
   ]
  },
  {
   "cell_type": "code",
   "execution_count": 1,
   "metadata": {},
   "outputs": [],
   "source": [
    "# See all my google foobar solves:\n",
    "# https://github.com/cdenq/my-google-foobar-solves"
   ]
  },
  {
   "cell_type": "code",
   "execution_count": 2,
   "metadata": {},
   "outputs": [
    {
     "data": {
      "text/plain": [
       "'\\nRe-ID\\n=========================\\n\\nThere\\'s some unrest in the minion ranks: minions with ID numbers like \"1\", \"42\", and other \"good\" numbers have been lording\\nit over the poor minions who are stuck with more boring IDs. To quell the unrest, Commander Lambda has tasked you with\\nreassigning everyone new, random IDs based on her Completely Foolproof Scheme.\\n\\nShe\\'s concatenated the prime numbers in a single long string: \"2357111317192329...\". Now every minion must draw a number\\nfrom a hat. That number is the starting index in that string of primes, and the minion\\'s new ID number will be the next\\nfive digits in the string. So if a minion draws \"3\", their ID number will be \"71113\".\\n\\nHelp the Commander assign these IDs by writing a function answer(n) which takes in the starting index n of Lambda\\'s string of\\nall primes, and returns the next five digits in the string. Commander Lambda has a lot of minions, so the value of n will\\nalways be between 0 and 10000.\\n'"
      ]
     },
     "execution_count": 2,
     "metadata": {},
     "output_type": "execute_result"
    }
   ],
   "source": [
    "'''\n",
    "Re-ID\n",
    "=========================\n",
    "\n",
    "There's some unrest in the minion ranks: minions with ID numbers like \"1\", \"42\", and other \"good\" numbers have been lording\n",
    "it over the poor minions who are stuck with more boring IDs. To quell the unrest, Commander Lambda has tasked you with\n",
    "reassigning everyone new, random IDs based on her Completely Foolproof Scheme.\n",
    "\n",
    "She's concatenated the prime numbers in a single long string: \"2357111317192329...\". Now every minion must draw a number\n",
    "from a hat. That number is the starting index in that string of primes, and the minion's new ID number will be the next\n",
    "five digits in the string. So if a minion draws \"3\", their ID number will be \"71113\".\n",
    "\n",
    "Help the Commander assign these IDs by writing a function answer(n) which takes in the starting index n of Lambda's string of\n",
    "all primes, and returns the next five digits in the string. Commander Lambda has a lot of minions, so the value of n will\n",
    "always be between 0 and 10000.\n",
    "'''"
   ]
  },
  {
   "cell_type": "markdown",
   "metadata": {},
   "source": [
    "### Test Cases"
   ]
  },
  {
   "cell_type": "code",
   "execution_count": 3,
   "metadata": {},
   "outputs": [
    {
     "data": {
      "text/plain": [
       "'\\n-- Python cases --\\nInputs: 0\\nOutput: \"23571\"\\n\\nInputs: 3\\nOutput: \"71113\"\\n'"
      ]
     },
     "execution_count": 3,
     "metadata": {},
     "output_type": "execute_result"
    }
   ],
   "source": [
    "'''\n",
    "-- Python cases --\n",
    "Inputs: 0\n",
    "Output: \"23571\"\n",
    "\n",
    "Inputs: 3\n",
    "Output: \"71113\"\n",
    "'''"
   ]
  },
  {
   "cell_type": "markdown",
   "metadata": {},
   "source": [
    "# Strategy & Solution"
   ]
  },
  {
   "cell_type": "markdown",
   "metadata": {},
   "source": [
    "### Brute Force"
   ]
  },
  {
   "cell_type": "code",
   "execution_count": 4,
   "metadata": {},
   "outputs": [
    {
     "data": {
      "text/plain": [
       "\"\\nGiven n, just return the string slice from n and n+5 (total of 5 chrs).\\n\\nThere isn't a formula to generate the next prime, so the prime string should be given.\\nI've hardcodede a string of all the prime numbers up to 100 in the solution below.\\n\""
      ]
     },
     "execution_count": 4,
     "metadata": {},
     "output_type": "execute_result"
    }
   ],
   "source": [
    "'''\n",
    "Given n, just return the string slice from n and n+5 (total of 5 chrs).\n",
    "\n",
    "There isn't a formula to generate the next prime, so the prime string should be given.\n",
    "I've hardcodede a string of all the prime numbers up to 100 in the solution below.\n",
    "'''"
   ]
  },
  {
   "cell_type": "code",
   "execution_count": 5,
   "metadata": {},
   "outputs": [],
   "source": [
    "def solution(n):\n",
    "    prime_str = \"2357111317192329313741434753596167717379838997\"\n",
    "    return prime_str[n:n+5]"
   ]
  },
  {
   "cell_type": "code",
   "execution_count": 6,
   "metadata": {},
   "outputs": [
    {
     "name": "stdout",
     "output_type": "stream",
     "text": [
      "23571\n",
      "71113\n"
     ]
    }
   ],
   "source": [
    "test_cases = [0,3]\n",
    "for num in test_cases:\n",
    "    print(solution(num))"
   ]
  }
 ],
 "metadata": {
  "interpreter": {
   "hash": "e94d89c61edb7043d9dc1b3e1ce26d28166b8b6282f4d8bdddba238f6ca3cf12"
  },
  "kernelspec": {
   "display_name": "Python 3.8.12 64-bit ('PythonData': conda)",
   "language": "python",
   "name": "python3"
  },
  "language_info": {
   "codemirror_mode": {
    "name": "ipython",
    "version": 3
   },
   "file_extension": ".py",
   "mimetype": "text/x-python",
   "name": "python",
   "nbconvert_exporter": "python",
   "pygments_lexer": "ipython3",
   "version": "3.8.12"
  },
  "orig_nbformat": 4
 },
 "nbformat": 4,
 "nbformat_minor": 2
}
