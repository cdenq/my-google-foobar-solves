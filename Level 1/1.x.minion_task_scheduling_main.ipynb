{
 "cells": [
  {
   "cell_type": "markdown",
   "metadata": {},
   "source": [
    "# Problem Statement"
   ]
  },
  {
   "cell_type": "code",
   "execution_count": 1,
   "metadata": {},
   "outputs": [],
   "source": [
    "# See all my google foobar solves:\n",
    "# https://github.com/cdenq/my-google-foobar-solves"
   ]
  },
  {
   "cell_type": "code",
   "execution_count": 2,
   "metadata": {},
   "outputs": [
    {
     "data": {
      "text/plain": [
       "\"\\nMinion Task Scheduling\\n=========================\\n\\nCommander Lambda's minions are upset! They're given the worst jobs on the whole space station, and some of them are\\nstarting to complain that even those worst jobs are being allocated unfairly. If you can fix this problem, it'll\\nprove your chops to Commander Lambda so you can get promoted!\\n\\nMinion's tasks are assigned by putting their ID numbers into a list, one time for each day they'll work on that task.\\nAs shifts are planned well in advance, the lists for each task will contain up to 99 integers. When a minion is\\nscheduled for the same task too many times, they'll complain about it until they're taken off the task completely.\\nSome tasks are worse than others, so the number of scheduled assignments before a minion will refuse to do a task\\nvaries depending on the task. You figure you can speed things up by automating the removal of the minions who have been\\nassigned a task too many times before they even get a chance to start complaining.\\n\\nWrite a function called answer(data, n) that takes in a list of less than 100 integers and a number n, and returns\\nthat same list but with all of the numbers that occur more than n times removed entirely. The returned list should retain\\nthe same ordering as the original list - you don't want to mix up those carefully planned shift rotations! For instance,\\nif data was [5, 10, 15, 10, 7] and n was 1, answer(data, n ) would return the list [5, 15, 7] because 10 occurs twice,\\nand was thus removed from the list entirely.\\n\""
      ]
     },
     "execution_count": 2,
     "metadata": {},
     "output_type": "execute_result"
    }
   ],
   "source": [
    "'''\n",
    "Minion Task Scheduling\n",
    "=========================\n",
    "\n",
    "Commander Lambda's minions are upset! They're given the worst jobs on the whole space station, and some of them are\n",
    "starting to complain that even those worst jobs are being allocated unfairly. If you can fix this problem, it'll\n",
    "prove your chops to Commander Lambda so you can get promoted!\n",
    "\n",
    "Minion's tasks are assigned by putting their ID numbers into a list, one time for each day they'll work on that task.\n",
    "As shifts are planned well in advance, the lists for each task will contain up to 99 integers. When a minion is\n",
    "scheduled for the same task too many times, they'll complain about it until they're taken off the task completely.\n",
    "Some tasks are worse than others, so the number of scheduled assignments before a minion will refuse to do a task\n",
    "varies depending on the task. You figure you can speed things up by automating the removal of the minions who have been\n",
    "assigned a task too many times before they even get a chance to start complaining.\n",
    "\n",
    "Write a function called answer(data, n) that takes in a list of less than 100 integers and a number n, and returns\n",
    "that same list but with all of the numbers that occur more than n times removed entirely. The returned list should retain\n",
    "the same ordering as the original list - you don't want to mix up those carefully planned shift rotations! For instance,\n",
    "if data was [5, 10, 15, 10, 7] and n was 1, answer(data, n ) would return the list [5, 15, 7] because 10 occurs twice,\n",
    "and was thus removed from the list entirely.\n",
    "'''"
   ]
  },
  {
   "cell_type": "markdown",
   "metadata": {},
   "source": [
    "### Test Cases"
   ]
  },
  {
   "cell_type": "code",
   "execution_count": 3,
   "metadata": {},
   "outputs": [
    {
     "data": {
      "text/plain": [
       "'\\n-- Python cases --\\nInput:\\nsolution.solution([1, 2, 3], 0)\\nOutput:\\n    []\\n\\nInput:\\nsolution.solution([1, 2, 2, 3, 3, 3, 4, 5, 5], 1)\\nOutput:\\n    [1, 4]\\n\\nInput:\\nsolution.solution([1, 2, 3], 6)\\nOutput:\\n    [1, 2, 3]\\n'"
      ]
     },
     "execution_count": 3,
     "metadata": {},
     "output_type": "execute_result"
    }
   ],
   "source": [
    "'''\n",
    "-- Python cases --\n",
    "Input:\n",
    "solution.solution([1, 2, 3], 0)\n",
    "Output:\n",
    "    []\n",
    "\n",
    "Input:\n",
    "solution.solution([1, 2, 2, 3, 3, 3, 4, 5, 5], 1)\n",
    "Output:\n",
    "    [1, 4]\n",
    "\n",
    "Input:\n",
    "solution.solution([1, 2, 3], 6)\n",
    "Output:\n",
    "    [1, 2, 3]\n",
    "'''"
   ]
  },
  {
   "cell_type": "markdown",
   "metadata": {},
   "source": [
    "# Strategy & Solution"
   ]
  },
  {
   "cell_type": "markdown",
   "metadata": {},
   "source": [
    "### Brute Force"
   ]
  },
  {
   "cell_type": "code",
   "execution_count": 4,
   "metadata": {},
   "outputs": [
    {
     "data": {
      "text/plain": [
       "'\\nFor every unique ID in the given list, create a counter that tracks the number of times that ID appears.\\n\\nLoop through the given list, increment the counter for the corresponding ID, and append that ID to a new output list.\\n\\nOnce the counter is equal to the given limit, no longer append that ID to the new output list.\\n'"
      ]
     },
     "execution_count": 4,
     "metadata": {},
     "output_type": "execute_result"
    }
   ],
   "source": [
    "'''\n",
    "For every unique ID in the given list, create a counter that tracks the number of times that ID appears.\n",
    "\n",
    "Loop through the given list, increment the counter for the corresponding ID, and append that ID to a new output list.\n",
    "\n",
    "Once the counter is equal to the given limit, no longer append that ID to the new output list.\n",
    "'''"
   ]
  },
  {
   "cell_type": "markdown",
   "metadata": {},
   "source": [
    "### Faster Method"
   ]
  },
  {
   "cell_type": "code",
   "execution_count": 5,
   "metadata": {},
   "outputs": [
    {
     "data": {
      "text/plain": [
       "'\\nWe can make this faster by putting the counters into a dictioanry, which has a O(1) lookup time on average.\\n'"
      ]
     },
     "execution_count": 5,
     "metadata": {},
     "output_type": "execute_result"
    }
   ],
   "source": [
    "'''\n",
    "We can make this faster by putting the counters into a dictioanry, which has a O(1) lookup time on average.\n",
    "'''"
   ]
  },
  {
   "cell_type": "code",
   "execution_count": 6,
   "metadata": {},
   "outputs": [],
   "source": [
    "def solution(data, n):\n",
    "    counter_dict = {}\n",
    "    output_ls = []\n",
    "    for id in data:\n",
    "        #populate dictionary\n",
    "        if id not in counter_dict.keys():\n",
    "            counter_dict[id] = 1\n",
    "        else:\n",
    "            counter_dict[id] += 1\n",
    "\n",
    "        #append only if under limit\n",
    "        if counter_dict[id] <= n:\n",
    "            output_ls.append(id)\n",
    "    return output_ls"
   ]
  },
  {
   "cell_type": "code",
   "execution_count": 7,
   "metadata": {},
   "outputs": [
    {
     "name": "stdout",
     "output_type": "stream",
     "text": [
      "[]\n",
      "[1, 2, 3, 4, 5]\n",
      "[1, 2, 3]\n"
     ]
    }
   ],
   "source": [
    "test_cases = [([1, 2, 3], 0),\n",
    "              ([1, 2, 2, 3, 3, 3, 4, 5, 5], 1),\n",
    "              ([1, 2, 3], 6)\n",
    "]\n",
    "for tuple in test_cases:\n",
    "    print(solution(tuple[0], tuple[1]))"
   ]
  }
 ],
 "metadata": {
  "interpreter": {
   "hash": "e94d89c61edb7043d9dc1b3e1ce26d28166b8b6282f4d8bdddba238f6ca3cf12"
  },
  "kernelspec": {
   "display_name": "Python 3.8.12 64-bit ('PythonData': conda)",
   "language": "python",
   "name": "python3"
  },
  "language_info": {
   "codemirror_mode": {
    "name": "ipython",
    "version": 3
   },
   "file_extension": ".py",
   "mimetype": "text/x-python",
   "name": "python",
   "nbconvert_exporter": "python",
   "pygments_lexer": "ipython3",
   "version": "3.8.12"
  },
  "orig_nbformat": 4
 },
 "nbformat": 4,
 "nbformat_minor": 2
}
