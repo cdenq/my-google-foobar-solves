{
 "cells": [
  {
   "cell_type": "markdown",
   "metadata": {},
   "source": [
    "# Problem Statement"
   ]
  },
  {
   "cell_type": "code",
   "execution_count": 1,
   "metadata": {},
   "outputs": [],
   "source": [
    "# See all my google foobar solves:\n",
    "# https://github.com/cdenq/my-google-foobar-solves"
   ]
  },
  {
   "cell_type": "code",
   "execution_count": 2,
   "metadata": {},
   "outputs": [
    {
     "data": {
      "text/plain": [
       "'\\nI Love Lance & Janice\\n=========================\\n\\nYou\\'ve caught two of your fellow minions passing coded notes back and forth - while they\\'re on duty, no less!\\nWorse, you\\'re pretty sure it\\'s not job-related - they\\'re both huge fans of the space soap opera \"Lance & Janice\".\\nYou know how much Commander Lambda hates waste, so if you can prove that these minions are wasting her time passing\\nnon-job-related notes, it\\'ll put you that much closer to a promotion. \\n\\nFortunately for you, the minions aren\\'t exactly advanced cryptographers. In their code, every lowercase letter [a..z]\\nis replaced with the corresponding one in [z..a], while every other character (including uppercase letters and punctuation)\\nis left untouched.  That is, \\'a\\' becomes \\'z\\', \\'b\\' becomes \\'y\\', \\'c\\' becomes \\'x\\', etc.  For instance, the word \"vmxibkgrlm\",\\nwhen decoded, would become \"encryption\".\\n\\nWrite a function called answer(s) which takes in a string and returns the deciphered string so you can show the commander\\nproof that these minions are talking about \"Lance & Janice\" instead of doing their jobs.\\n'"
      ]
     },
     "execution_count": 2,
     "metadata": {},
     "output_type": "execute_result"
    }
   ],
   "source": [
    "'''\n",
    "I Love Lance & Janice\n",
    "=========================\n",
    "\n",
    "You've caught two of your fellow minions passing coded notes back and forth - while they're on duty, no less!\n",
    "Worse, you're pretty sure it's not job-related - they're both huge fans of the space soap opera \"Lance & Janice\".\n",
    "You know how much Commander Lambda hates waste, so if you can prove that these minions are wasting her time passing\n",
    "non-job-related notes, it'll put you that much closer to a promotion. \n",
    "\n",
    "Fortunately for you, the minions aren't exactly advanced cryptographers. In their code, every lowercase letter [a..z]\n",
    "is replaced with the corresponding one in [z..a], while every other character (including uppercase letters and punctuation)\n",
    "is left untouched.  That is, 'a' becomes 'z', 'b' becomes 'y', 'c' becomes 'x', etc.  For instance, the word \"vmxibkgrlm\",\n",
    "when decoded, would become \"encryption\".\n",
    "\n",
    "Write a function called answer(s) which takes in a string and returns the deciphered string so you can show the commander\n",
    "proof that these minions are talking about \"Lance & Janice\" instead of doing their jobs.\n",
    "'''"
   ]
  },
  {
   "cell_type": "markdown",
   "metadata": {},
   "source": [
    "### Test Cases"
   ]
  },
  {
   "cell_type": "code",
   "execution_count": 3,
   "metadata": {},
   "outputs": [
    {
     "data": {
      "text/plain": [
       "'\\n-- Python cases --\\nInputs:\\n    (string) s = \"wrw blf hvv ozhg mrtsg\\'h vkrhlwv?\"\\nOutput:\\n    (string) \"did you see last night\\'s episode?\"\\n\\nInputs:\\n    (string) s = \"Yvzs! I xzm\\'g yvorvev Lzmxv olhg srh qly zg gsv xlolmb!!\"\\nOutput:\\n    (string) \"Yeah! I can\\'t believe Lance lost his job at the colony!!\"\\n'"
      ]
     },
     "execution_count": 3,
     "metadata": {},
     "output_type": "execute_result"
    }
   ],
   "source": [
    "'''\n",
    "-- Python cases --\n",
    "Inputs:\n",
    "    (string) s = \"wrw blf hvv ozhg mrtsg'h vkrhlwv?\"\n",
    "Output:\n",
    "    (string) \"did you see last night's episode?\"\n",
    "\n",
    "Inputs:\n",
    "    (string) s = \"Yvzs! I xzm'g yvorvev Lzmxv olhg srh qly zg gsv xlolmb!!\"\n",
    "Output:\n",
    "    (string) \"Yeah! I can't believe Lance lost his job at the colony!!\"\n",
    "'''"
   ]
  },
  {
   "cell_type": "markdown",
   "metadata": {},
   "source": [
    "# Strategy & Solution"
   ]
  },
  {
   "cell_type": "markdown",
   "metadata": {},
   "source": [
    "### Brute Force O(2n)"
   ]
  },
  {
   "cell_type": "code",
   "execution_count": 4,
   "metadata": {},
   "outputs": [
    {
     "data": {
      "text/plain": [
       "\"\\nGenerate a list of all lowercase letters.\\nLoop through the given string, and for each character, find the position of that character in a list of lowercase letters.\\nOnce we have the position, we can index the negative of that position minus 1 to get the correct encrypted letter.\\n\\nEg) 'a' is index 0. the encryption would be -0-1, which is -1, which be 'z'\\n\""
      ]
     },
     "execution_count": 4,
     "metadata": {},
     "output_type": "execute_result"
    }
   ],
   "source": [
    "'''\n",
    "Generate a list of all lowercase letters.\n",
    "Loop through the given string, and for each character, find the position of that character in a list of lowercase letters.\n",
    "Once we have the position, we can index the negative of that position minus 1 to get the correct encrypted letter.\n",
    "\n",
    "Eg) 'a' is index 0. the encryption would be -0-1, which is -1, which be 'z'\n",
    "'''"
   ]
  },
  {
   "cell_type": "markdown",
   "metadata": {},
   "source": [
    "### Faster Method O(n)"
   ]
  },
  {
   "cell_type": "code",
   "execution_count": 5,
   "metadata": {},
   "outputs": [
    {
     "data": {
      "text/plain": [
       "\"\\nRather than continually looping through the list of lowercase letters for every single letter in our string, we can deposit all\\nthe keys into a dictionary to get a lookup time of on average O(1). This dictionary will be our cipher.\\n\\nEg) {\\n    'a' : 'z'\\n    'b' : 'y'...\\n}\\n\\nWhen we loop through the given string, we just check the current letter against the dictioanry to get the resulting letter.\\n\""
      ]
     },
     "execution_count": 5,
     "metadata": {},
     "output_type": "execute_result"
    }
   ],
   "source": [
    "'''\n",
    "Rather than continually looping through the list of lowercase letters for every single letter in our string, we can deposit all\n",
    "the keys into a dictionary to get a lookup time of on average O(1). This dictionary will be our cipher.\n",
    "\n",
    "Eg) {\n",
    "    'a' : 'z'\n",
    "    'b' : 'y'...\n",
    "}\n",
    "\n",
    "When we loop through the given string, we just check the current letter against the dictioanry to get the resulting letter.\n",
    "'''"
   ]
  },
  {
   "cell_type": "code",
   "execution_count": 6,
   "metadata": {},
   "outputs": [],
   "source": [
    "def solution(str):\n",
    "    #creating cipher (dictionary)\n",
    "    lwrcase = 'abcdefghijklmnopqrstuvwxyz'\n",
    "    cipher = {}\n",
    "    for i in range(len(lwrcase)):\n",
    "        cipher[lwrcase[i]] = lwrcase[-i-1]\n",
    "\n",
    "    #loop through string\n",
    "    output_str = ''\n",
    "    for chr in str:\n",
    "        if chr in cipher.keys():\n",
    "            output_str += cipher[chr]\n",
    "        else:\n",
    "            output_str += chr\n",
    "    return output_str"
   ]
  },
  {
   "cell_type": "code",
   "execution_count": 7,
   "metadata": {},
   "outputs": [
    {
     "name": "stdout",
     "output_type": "stream",
     "text": [
      "did you see last night's episode?\n",
      "Yeah! I can't believe Lance lost his job at the colony!!\n",
      "abcdefghi\n"
     ]
    }
   ],
   "source": [
    "test_cases = [\"wrw blf hvv ozhg mrtsg'h vkrhlwv?\",\n",
    "              \"Yvzs! I xzm'g yvorvev Lzmxv olhg srh qly zg gsv xlolmb!!\",\n",
    "              \"zyxwvutsr\"\n",
    "]\n",
    "for str in test_cases:\n",
    "    print(solution(str))"
   ]
  }
 ],
 "metadata": {
  "interpreter": {
   "hash": "e94d89c61edb7043d9dc1b3e1ce26d28166b8b6282f4d8bdddba238f6ca3cf12"
  },
  "kernelspec": {
   "display_name": "Python 3.8.12 64-bit ('PythonData': conda)",
   "language": "python",
   "name": "python3"
  },
  "language_info": {
   "codemirror_mode": {
    "name": "ipython",
    "version": 3
   },
   "file_extension": ".py",
   "mimetype": "text/x-python",
   "name": "python",
   "nbconvert_exporter": "python",
   "pygments_lexer": "ipython3",
   "version": "3.8.12"
  },
  "orig_nbformat": 4
 },
 "nbformat": 4,
 "nbformat_minor": 2
}
