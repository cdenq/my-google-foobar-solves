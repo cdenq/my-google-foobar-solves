{
 "cells": [
  {
   "cell_type": "markdown",
   "metadata": {},
   "source": [
    "# Problem Statement"
   ]
  },
  {
   "cell_type": "code",
   "execution_count": 1,
   "metadata": {},
   "outputs": [],
   "source": [
    "# See all my google foobar solves:\n",
    "# https://github.com/cdenq/my-google-foobar-solves"
   ]
  },
  {
   "cell_type": "code",
   "execution_count": null,
   "metadata": {},
   "outputs": [],
   "source": [
    "'''\n",
    "Braille Translation\n",
    "===================\n",
    "\n",
    "Because Commander Lambda is an equal-opportunity despot, she has several visually-impaired minions. But she never bothered\n",
    "to follow intergalactic standards for workplace accommodations, so those minions have a hard time navigating her space station.\n",
    "You figure printing out Braille signs will help them, and - since you'll be promoting efficiency at the same time -\n",
    "increase your chances of a promotion. \n",
    "\n",
    "Braille is a writing system used to read by touch instead of by sight. Each character is composed of 6 dots in a 2x3 grid,\n",
    "where each dot can either be a bump or be flat (no bump). You plan to translate the signs around the space station to Braille\n",
    "so that the minions under Commander Lambda's command can feel the bumps on the signs and \"read\" the text with their touch.\n",
    "The special printer which can print the bumps onto the signs expects the dots in the following order:\n",
    "\n",
    "1 4\n",
    "2 5\n",
    "3 6\n",
    "\n",
    "So given the plain text word \"code\", you get the Braille dots:\n",
    "\n",
    "11 10 11 10\n",
    "00 01 01 01\n",
    "00 10 00 00\n",
    "\n",
    "where 1 represents a bump and 0 represents no bump.  Put together, \"code\" becomes the output string \"100100101010100110100010\".\n",
    "\n",
    "Write a function answer(plaintext) that takes a string parameter and returns a string of 1's and 0's representing the bumps\n",
    "and absence of bumps in the input string. Your function should be able to encode the 26 lowercase letters, handle capital letters\n",
    "by adding a Braille capitalization mark before that character, and use a blank character (000000) for spaces. All signs on the space\n",
    "station are less than fifty characters long and use only letters and spaces.\n",
    "'''"
   ]
  },
  {
   "cell_type": "markdown",
   "metadata": {},
   "source": [
    "### Test Cases"
   ]
  },
  {
   "cell_type": "code",
   "execution_count": null,
   "metadata": {},
   "outputs": [],
   "source": [
    "'''\n",
    "-- Python cases --\n",
    "Input:\n",
    "solution.solution(\"code\")\n",
    "Output:\n",
    "    \"100100101010100110100010\"\n",
    "\n",
    "Input:\n",
    "solution.solution(\"Braille\")\n",
    "Output:\n",
    "    \"000001110000111010100000010100111000111000100010\"\n",
    "\n",
    "Input:\n",
    "solution.solution(\"The quick brown fox jumps over the lazy dog\")\n",
    "Output:\n",
    "    \"000001011110110010100010000000111110101001010100100100101000000000110000111010101010010111101110000000110100101010101101000000010110101001101100111100011100000000101010111001100010111010000000011110110010100010000000111000100000101011101111000000100110101010110110\"  \n",
    "'''"
   ]
  },
  {
   "cell_type": "markdown",
   "metadata": {},
   "source": [
    "# Strategy & Solution"
   ]
  },
  {
   "cell_type": "markdown",
   "metadata": {},
   "source": [
    "### Brute Force"
   ]
  },
  {
   "cell_type": "code",
   "execution_count": null,
   "metadata": {},
   "outputs": [],
   "source": [
    "'''\n",
    "\n",
    "'''"
   ]
  },
  {
   "cell_type": "code",
   "execution_count": null,
   "metadata": {},
   "outputs": [],
   "source": [
    "def solution():\n",
    "    return"
   ]
  },
  {
   "cell_type": "markdown",
   "metadata": {},
   "source": [
    "### Faster Method"
   ]
  },
  {
   "cell_type": "code",
   "execution_count": null,
   "metadata": {},
   "outputs": [],
   "source": [
    "'''\n",
    "\n",
    "'''"
   ]
  },
  {
   "cell_type": "code",
   "execution_count": null,
   "metadata": {},
   "outputs": [],
   "source": [
    "def solution():\n",
    "    return"
   ]
  },
  {
   "cell_type": "code",
   "execution_count": null,
   "metadata": {},
   "outputs": [],
   "source": [
    "test_cases = [15,4,234234]\n",
    "for num in test_cases:\n",
    "    print(solution(num))"
   ]
  }
 ],
 "metadata": {
  "interpreter": {
   "hash": "e94d89c61edb7043d9dc1b3e1ce26d28166b8b6282f4d8bdddba238f6ca3cf12"
  },
  "kernelspec": {
   "display_name": "Python 3.8.12 64-bit ('PythonData': conda)",
   "language": "python",
   "name": "python3"
  },
  "language_info": {
   "codemirror_mode": {
    "name": "ipython",
    "version": 3
   },
   "file_extension": ".py",
   "mimetype": "text/x-python",
   "name": "python",
   "nbconvert_exporter": "python",
   "pygments_lexer": "ipython3",
   "version": "3.8.12"
  },
  "orig_nbformat": 4
 },
 "nbformat": 4,
 "nbformat_minor": 2
}
